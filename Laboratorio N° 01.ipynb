{
    "metadata": {
        "kernelspec": {
            "name": "SQL",
            "display_name": "SQL",
            "language": "sql"
        },
        "language_info": {
            "name": "sql",
            "version": ""
        }
    },
    "nbformat_minor": 2,
    "nbformat": 4,
    "cells": [
        {
            "cell_type": "markdown",
            "source": "<H1><center>UTILIZANDO EXPRESIONES DE TABLA",
            "metadata": {}
        },
        {
            "cell_type": "markdown",
            "source": "1. Utilizando Vistas",
            "metadata": {}
        },
        {
            "cell_type": "markdown",
            "source": "1.1. Accediendo a la base de datos TSQL",
            "metadata": {}
        },
        {
            "cell_type": "code",
            "source": "USE TSQL;\r\nGO",
            "metadata": {},
            "outputs": [
                {
                    "output_type": "display_data",
                    "data": {
                        "text/html": "Commands completed successfully."
                    },
                    "metadata": {}
                },
                {
                    "output_type": "display_data",
                    "data": {
                        "text/html": "Total execution time: 00:00:00.047"
                    },
                    "metadata": {}
                }
            ],
            "execution_count": 1
        },
        {
            "cell_type": "markdown",
            "source": "1.2. Write a SELECT statement to return the productid, productname, supplierid, unitprice, and\r\ndiscontinued columns from the Production.Products table. Filter the results to include only products\r\nthat belong to the category Beverages (categoryid equals 1)",
            "metadata": {}
        },
        {
            "cell_type": "code",
            "source": "SELECT productid,productname, supplierid, unitprice, discontinued FROM Production.Products WHERE categoryid = 1",
            "metadata": {},
            "outputs": [
                {
                    "output_type": "display_data",
                    "data": {
                        "text/html": "(12 rows affected)"
                    },
                    "metadata": {}
                },
                {
                    "output_type": "display_data",
                    "data": {
                        "text/html": "Total execution time: 00:00:00.095"
                    },
                    "metadata": {}
                },
                {
                    "output_type": "execute_result",
                    "metadata": {},
                    "execution_count": 2,
                    "data": {
                        "application/vnd.dataresource+json": {
                            "schema": {
                                "fields": [
                                    {
                                        "name": "productid"
                                    },
                                    {
                                        "name": "productname"
                                    },
                                    {
                                        "name": "supplierid"
                                    },
                                    {
                                        "name": "unitprice"
                                    },
                                    {
                                        "name": "discontinued"
                                    }
                                ]
                            },
                            "data": [
                                {
                                    "0": "1",
                                    "1": "Product HHYDP",
                                    "2": "1",
                                    "3": "18.0000",
                                    "4": "0"
                                },
                                {
                                    "0": "2",
                                    "1": "Product RECZE",
                                    "2": "1",
                                    "3": "19.0000",
                                    "4": "0"
                                },
                                {
                                    "0": "24",
                                    "1": "Product QOGNU",
                                    "2": "10",
                                    "3": "4.5000",
                                    "4": "1"
                                },
                                {
                                    "0": "34",
                                    "1": "Product SWNJY",
                                    "2": "16",
                                    "3": "14.0000",
                                    "4": "0"
                                },
                                {
                                    "0": "35",
                                    "1": "Product NEVTJ",
                                    "2": "16",
                                    "3": "18.0000",
                                    "4": "0"
                                },
                                {
                                    "0": "38",
                                    "1": "Product QDOMO",
                                    "2": "18",
                                    "3": "263.5000",
                                    "4": "0"
                                },
                                {
                                    "0": "39",
                                    "1": "Product LSOFL",
                                    "2": "18",
                                    "3": "18.0000",
                                    "4": "0"
                                },
                                {
                                    "0": "43",
                                    "1": "Product ZZZHR",
                                    "2": "20",
                                    "3": "46.0000",
                                    "4": "0"
                                },
                                {
                                    "0": "67",
                                    "1": "Product XLXQF",
                                    "2": "16",
                                    "3": "14.0000",
                                    "4": "0"
                                },
                                {
                                    "0": "70",
                                    "1": "Product TOONT",
                                    "2": "7",
                                    "3": "15.0000",
                                    "4": "0"
                                },
                                {
                                    "0": "75",
                                    "1": "Product BWRLG",
                                    "2": "12",
                                    "3": "7.7500",
                                    "4": "0"
                                },
                                {
                                    "0": "76",
                                    "1": "Product JYGFE",
                                    "2": "23",
                                    "3": "18.0000",
                                    "4": "0"
                                }
                            ]
                        },
                        "text/html": "<table><tr><th>productid</th><th>productname</th><th>supplierid</th><th>unitprice</th><th>discontinued</th></tr><tr><td>1</td><td>Product HHYDP</td><td>1</td><td>18.0000</td><td>0</td></tr><tr><td>2</td><td>Product RECZE</td><td>1</td><td>19.0000</td><td>0</td></tr><tr><td>24</td><td>Product QOGNU</td><td>10</td><td>4.5000</td><td>1</td></tr><tr><td>34</td><td>Product SWNJY</td><td>16</td><td>14.0000</td><td>0</td></tr><tr><td>35</td><td>Product NEVTJ</td><td>16</td><td>18.0000</td><td>0</td></tr><tr><td>38</td><td>Product QDOMO</td><td>18</td><td>263.5000</td><td>0</td></tr><tr><td>39</td><td>Product LSOFL</td><td>18</td><td>18.0000</td><td>0</td></tr><tr><td>43</td><td>Product ZZZHR</td><td>20</td><td>46.0000</td><td>0</td></tr><tr><td>67</td><td>Product XLXQF</td><td>16</td><td>14.0000</td><td>0</td></tr><tr><td>70</td><td>Product TOONT</td><td>7</td><td>15.0000</td><td>0</td></tr><tr><td>75</td><td>Product BWRLG</td><td>12</td><td>7.7500</td><td>0</td></tr><tr><td>76</td><td>Product JYGFE</td><td>23</td><td>18.0000</td><td>0</td></tr></table>"
                    }
                }
            ],
            "execution_count": 2
        },
        {
            "cell_type": "markdown",
            "source": "1.3. Modify the T-SQL code to include the following supplied T-SQL statement. Put this statement before\r\nthe SELECT clause:",
            "metadata": {}
        },
        {
            "cell_type": "code",
            "source": "CREATE VIEW Production.ProductsBeverages AS SELECT productid,productname, supplierid, unitprice, discontinued FROM Production.Products WHERE categoryid = 1",
            "metadata": {},
            "outputs": [
                {
                    "output_type": "display_data",
                    "data": {
                        "text/html": "Commands completed successfully."
                    },
                    "metadata": {}
                },
                {
                    "output_type": "display_data",
                    "data": {
                        "text/html": "Total execution time: 00:00:00.018"
                    },
                    "metadata": {}
                }
            ],
            "execution_count": 3
        },
        {
            "cell_type": "markdown",
            "source": "1.4. Write a SELECT statement to return the productid and productname columns from the\r\nProduction.ProductsBeverages view. Filter the results to include only products where supplierid equals\r\n1",
            "metadata": {}
        },
        {
            "cell_type": "code",
            "source": "SELECT productid,productname FROM Production.ProductsBeverages WHERE supplierid = 1",
            "metadata": {},
            "outputs": [
                {
                    "output_type": "display_data",
                    "data": {
                        "text/html": "(2 rows affected)"
                    },
                    "metadata": {}
                },
                {
                    "output_type": "display_data",
                    "data": {
                        "text/html": "Total execution time: 00:00:00.012"
                    },
                    "metadata": {}
                },
                {
                    "output_type": "execute_result",
                    "metadata": {},
                    "execution_count": 4,
                    "data": {
                        "application/vnd.dataresource+json": {
                            "schema": {
                                "fields": [
                                    {
                                        "name": "productid"
                                    },
                                    {
                                        "name": "productname"
                                    }
                                ]
                            },
                            "data": [
                                {
                                    "0": "1",
                                    "1": "Product HHYDP"
                                },
                                {
                                    "0": "2",
                                    "1": "Product RECZE"
                                }
                            ]
                        },
                        "text/html": "<table><tr><th>productid</th><th>productname</th></tr><tr><td>1</td><td>Product HHYDP</td></tr><tr><td>2</td><td>Product RECZE</td></tr></table>"
                    }
                }
            ],
            "execution_count": 4
        },
        {
            "cell_type": "markdown",
            "source": "1.5. The IT department has written a T-SQL statement that adds an additional calculated column to the",
            "metadata": {}
        },
        {
            "cell_type": "code",
            "source": "ALTER VIEW Production.ProductsBeverages AS\r\nSELECT\r\nproductid, productname, supplierid, unitprice, discontinued,\r\nCASE WHEN unitprice > 100. THEN N'high' ELSE N'normal' END\r\nFROM Production.Products\r\nWHERE categoryid = 1;",
            "metadata": {},
            "outputs": [
                {
                    "output_type": "display_data",
                    "data": {
                        "text/html": "Commands completed successfully."
                    },
                    "metadata": {}
                },
                {
                    "output_type": "display_data",
                    "data": {
                        "text/html": "Total execution time: 00:00:00.004"
                    },
                    "metadata": {}
                }
            ],
            "execution_count": 9
        },
        {
            "cell_type": "markdown",
            "source": "1.6. Apply the changes needed to get the T-SQL statement to execute properly",
            "metadata": {}
        },
        {
            "cell_type": "code",
            "source": "ALTER VIEW Production.ProductsBeverages AS\r\nSELECT\r\nproductid, productname, supplierid, unitprice, discontinued,\r\nCASE WHEN unitprice > 100. THEN N'high' ELSE N'normal' END AS Cost_Estimation\r\nFROM Production.Products\r\nWHERE categoryid = 1;",
            "metadata": {},
            "outputs": [
                {
                    "output_type": "display_data",
                    "data": {
                        "text/html": "Commands completed successfully."
                    },
                    "metadata": {}
                },
                {
                    "output_type": "display_data",
                    "data": {
                        "text/html": "Total execution time: 00:00:00.004"
                    },
                    "metadata": {}
                }
            ],
            "execution_count": 5
        },
        {
            "cell_type": "markdown",
            "source": "2. Utilizando utilizando Tablas Derivadas",
            "metadata": {}
        },
        {
            "cell_type": "markdown",
            "source": "2.1. Write a SELECT statement against a derived table and retrieve the productid and productname\r\ncolumns. Filter the results to include only the rows in which the pricetype column value is equal to\r\nhigh. Use the SELECT statement from exercise 1, task 4, as the inner query that defines the derived\r\ntable. Do not forget to use an alias for the derived table. (You can use the alias “p”.)",
            "metadata": {}
        },
        {
            "cell_type": "code",
            "source": "SELECT P.productid,P.productname FROM (SELECT productid,productname,Cost_Estimation FROM Production.ProductsBeverages) AS P WHERE Cost_Estimation LIKE 'high'",
            "metadata": {},
            "outputs": [
                {
                    "output_type": "display_data",
                    "data": {
                        "text/html": "(1 row affected)"
                    },
                    "metadata": {}
                },
                {
                    "output_type": "display_data",
                    "data": {
                        "text/html": "Total execution time: 00:00:00.005"
                    },
                    "metadata": {}
                },
                {
                    "output_type": "execute_result",
                    "metadata": {},
                    "execution_count": 8,
                    "data": {
                        "application/vnd.dataresource+json": {
                            "schema": {
                                "fields": [
                                    {
                                        "name": "productid"
                                    },
                                    {
                                        "name": "productname"
                                    }
                                ]
                            },
                            "data": [
                                {
                                    "0": "38",
                                    "1": "Product QDOMO"
                                }
                            ]
                        },
                        "text/html": "<table><tr><th>productid</th><th>productname</th></tr><tr><td>38</td><td>Product QDOMO</td></tr></table>"
                    }
                }
            ],
            "execution_count": 8
        },
        {
            "cell_type": "markdown",
            "source": "2.2. Write a SELECT statement to retrieve the custid column and two calculated columns:\r\ntotalsalesamount, which returns the total sales amount per customer, and avgsalesamount, which\r\nreturns the average sales amount of orders per customer. To correctly calculate the average sales\r\namount of orders per customer, you should first calculate the total sales amount per order. You can\r\ndo so by defining a derived table based on a query that joins the Sales.Orders and Sales.OrderDetails\r\ntables. You can use the custid and orderid columns from the Sales.Orders table and the qty and\r\nunitprice columns from the Sales.OrderDetails table",
            "metadata": {}
        },
        {
            "cell_type": "code",
            "source": "SELECT orderid,SUM( (unitprice*qty)-(unitprice*qty*discount) ) AS  TotalSalesAmount\r\n, AVG( (unitprice*qty)-(unitprice*qty*discount) ) AS AVGSalesAmount\r\nFROM Sales.OrderDetails GROUP BY orderid",
            "metadata": {},
            "outputs": [
                {
                    "output_type": "display_data",
                    "data": {
                        "text/html": "(830 rows affected)"
                    },
                    "metadata": {}
                },
                {
                    "output_type": "display_data",
                    "data": {
                        "text/html": "Total execution time: 00:00:00.035"
                    },
                    "metadata": {}
                },
                {
                    "output_type": "execute_result",
                    "metadata": {},
                    "execution_count": 9,
                    "data": {
                        "application/vnd.dataresource+json": {
                            "schema": {
                                "fields": [
                                    {
                                        "name": "orderid"
                                    },
                                    {
                                        "name": "TotalSalesAmount"
                                    },
                                    {
                                        "name": "AVGSalesAmount"
                                    }
                                ]
                            },
                            "data": [
                                {
                                    "0": "10248",
                                    "1": "440.0000000",
                                    "2": "146.6666666"
                                },
                                {
                                    "0": "10249",
                                    "1": "1863.4000000",
                                    "2": "931.7000000"
                                },
                                {
                                    "0": "10250",
                                    "1": "1552.6000000",
                                    "2": "517.5333333"
                                },
                                {
                                    "0": "10251",
                                    "1": "654.0600000",
                                    "2": "218.0200000"
                                },
                                {
                                    "0": "10252",
                                    "1": "3597.9000000",
                                    "2": "1199.3000000"
                                },
                                {
                                    "0": "10253",
                                    "1": "1444.8000000",
                                    "2": "481.6000000"
                                },
                                {
                                    "0": "10254",
                                    "1": "556.6200000",
                                    "2": "185.5400000"
                                },
                                {
                                    "0": "10255",
                                    "1": "2490.5000000",
                                    "2": "622.6250000"
                                },
                                {
                                    "0": "10256",
                                    "1": "517.8000000",
                                    "2": "258.9000000"
                                },
                                {
                                    "0": "10257",
                                    "1": "1119.9000000",
                                    "2": "373.3000000"
                                },
                                {
                                    "0": "10258",
                                    "1": "1614.8800000",
                                    "2": "538.2933333"
                                },
                                {
                                    "0": "10259",
                                    "1": "100.8000000",
                                    "2": "50.4000000"
                                },
                                {
                                    "0": "10260",
                                    "1": "1504.6500000",
                                    "2": "376.1625000"
                                },
                                {
                                    "0": "10261",
                                    "1": "448.0000000",
                                    "2": "224.0000000"
                                },
                                {
                                    "0": "10262",
                                    "1": "584.0000000",
                                    "2": "194.6666666"
                                },
                                {
                                    "0": "10263",
                                    "1": "1873.8000000",
                                    "2": "468.4500000"
                                },
                                {
                                    "0": "10264",
                                    "1": "695.6250000",
                                    "2": "347.8125000"
                                },
                                {
                                    "0": "10265",
                                    "1": "1176.0000000",
                                    "2": "588.0000000"
                                },
                                {
                                    "0": "10266",
                                    "1": "346.5600000",
                                    "2": "346.5600000"
                                },
                                {
                                    "0": "10267",
                                    "1": "3536.6000000",
                                    "2": "1178.8666666"
                                },
                                {
                                    "0": "10268",
                                    "1": "1101.2000000",
                                    "2": "550.6000000"
                                },
                                {
                                    "0": "10269",
                                    "1": "642.2000000",
                                    "2": "321.1000000"
                                },
                                {
                                    "0": "10270",
                                    "1": "1376.0000000",
                                    "2": "688.0000000"
                                },
                                {
                                    "0": "10271",
                                    "1": "48.0000000",
                                    "2": "48.0000000"
                                },
                                {
                                    "0": "10272",
                                    "1": "1456.0000000",
                                    "2": "485.3333333"
                                },
                                {
                                    "0": "10273",
                                    "1": "2037.2800000",
                                    "2": "407.4560000"
                                },
                                {
                                    "0": "10274",
                                    "1": "538.6000000",
                                    "2": "269.3000000"
                                },
                                {
                                    "0": "10275",
                                    "1": "291.8400000",
                                    "2": "145.9200000"
                                },
                                {
                                    "0": "10276",
                                    "1": "420.0000000",
                                    "2": "210.0000000"
                                },
                                {
                                    "0": "10277",
                                    "1": "1200.8000000",
                                    "2": "600.4000000"
                                },
                                {
                                    "0": "10278",
                                    "1": "1488.8000000",
                                    "2": "372.2000000"
                                },
                                {
                                    "0": "10279",
                                    "1": "351.0000000",
                                    "2": "351.0000000"
                                },
                                {
                                    "0": "10280",
                                    "1": "613.2000000",
                                    "2": "204.4000000"
                                },
                                {
                                    "0": "10281",
                                    "1": "86.5000000",
                                    "2": "28.8333333"
                                },
                                {
                                    "0": "10282",
                                    "1": "155.4000000",
                                    "2": "77.7000000"
                                },
                                {
                                    "0": "10283",
                                    "1": "1414.8000000",
                                    "2": "353.7000000"
                                },
                                {
                                    "0": "10284",
                                    "1": "1170.3750000",
                                    "2": "292.5937500"
                                },
                                {
                                    "0": "10285",
                                    "1": "1743.3600000",
                                    "2": "581.1200000"
                                },
                                {
                                    "0": "10286",
                                    "1": "3016.0000000",
                                    "2": "1508.0000000"
                                },
                                {
                                    "0": "10287",
                                    "1": "819.0000000",
                                    "2": "273.0000000"
                                },
                                {
                                    "0": "10288",
                                    "1": "80.1000000",
                                    "2": "40.0500000"
                                },
                                {
                                    "0": "10289",
                                    "1": "479.4000000",
                                    "2": "239.7000000"
                                },
                                {
                                    "0": "10290",
                                    "1": "2169.0000000",
                                    "2": "542.2500000"
                                },
                                {
                                    "0": "10291",
                                    "1": "497.5200000",
                                    "2": "165.8400000"
                                },
                                {
                                    "0": "10292",
                                    "1": "1296.0000000",
                                    "2": "1296.0000000"
                                },
                                {
                                    "0": "10293",
                                    "1": "848.7000000",
                                    "2": "212.1750000"
                                },
                                {
                                    "0": "10294",
                                    "1": "1887.6000000",
                                    "2": "377.5200000"
                                },
                                {
                                    "0": "10295",
                                    "1": "121.6000000",
                                    "2": "121.6000000"
                                },
                                {
                                    "0": "10296",
                                    "1": "1050.6000000",
                                    "2": "350.2000000"
                                },
                                {
                                    "0": "10297",
                                    "1": "1420.0000000",
                                    "2": "710.0000000"
                                },
                                {
                                    "0": "10298",
                                    "1": "2645.0000000",
                                    "2": "661.2500000"
                                },
                                {
                                    "0": "10299",
                                    "1": "349.5000000",
                                    "2": "174.7500000"
                                },
                                {
                                    "0": "10300",
                                    "1": "608.0000000",
                                    "2": "304.0000000"
                                },
                                {
                                    "0": "10301",
                                    "1": "755.0000000",
                                    "2": "377.5000000"
                                },
                                {
                                    "0": "10302",
                                    "1": "2708.8000000",
                                    "2": "902.9333333"
                                },
                                {
                                    "0": "10303",
                                    "1": "1117.8000000",
                                    "2": "372.6000000"
                                },
                                {
                                    "0": "10304",
                                    "1": "954.4000000",
                                    "2": "318.1333333"
                                },
                                {
                                    "0": "10305",
                                    "1": "3741.3000000",
                                    "2": "1247.1000000"
                                },
                                {
                                    "0": "10306",
                                    "1": "498.5000000",
                                    "2": "166.1666666"
                                },
                                {
                                    "0": "10307",
                                    "1": "424.0000000",
                                    "2": "212.0000000"
                                },
                                {
                                    "0": "10308",
                                    "1": "88.8000000",
                                    "2": "44.4000000"
                                },
                                {
                                    "0": "10309",
                                    "1": "1762.0000000",
                                    "2": "352.4000000"
                                },
                                {
                                    "0": "10310",
                                    "1": "336.0000000",
                                    "2": "168.0000000"
                                },
                                {
                                    "0": "10311",
                                    "1": "268.8000000",
                                    "2": "134.4000000"
                                },
                                {
                                    "0": "10312",
                                    "1": "1614.8000000",
                                    "2": "403.7000000"
                                },
                                {
                                    "0": "10313",
                                    "1": "182.4000000",
                                    "2": "182.4000000"
                                },
                                {
                                    "0": "10314",
                                    "1": "2094.3000000",
                                    "2": "698.1000000"
                                },
                                {
                                    "0": "10315",
                                    "1": "516.8000000",
                                    "2": "258.4000000"
                                },
                                {
                                    "0": "10316",
                                    "1": "2835.0000000",
                                    "2": "1417.5000000"
                                },
                                {
                                    "0": "10317",
                                    "1": "288.0000000",
                                    "2": "288.0000000"
                                },
                                {
                                    "0": "10318",
                                    "1": "240.4000000",
                                    "2": "120.2000000"
                                },
                                {
                                    "0": "10319",
                                    "1": "1191.2000000",
                                    "2": "397.0666666"
                                },
                                {
                                    "0": "10320",
                                    "1": "516.0000000",
                                    "2": "516.0000000"
                                },
                                {
                                    "0": "10321",
                                    "1": "144.0000000",
                                    "2": "144.0000000"
                                },
                                {
                                    "0": "10322",
                                    "1": "112.0000000",
                                    "2": "112.0000000"
                                },
                                {
                                    "0": "10323",
                                    "1": "164.4000000",
                                    "2": "54.8000000"
                                },
                                {
                                    "0": "10324",
                                    "1": "5275.7150000",
                                    "2": "1055.1430000"
                                },
                                {
                                    "0": "10325",
                                    "1": "1497.0000000",
                                    "2": "299.4000000"
                                },
                                {
                                    "0": "10326",
                                    "1": "982.0000000",
                                    "2": "327.3333333"
                                },
                                {
                                    "0": "10327",
                                    "1": "1810.0000000",
                                    "2": "452.5000000"
                                },
                                {
                                    "0": "10328",
                                    "1": "1168.0000000",
                                    "2": "389.3333333"
                                },
                                {
                                    "0": "10329",
                                    "1": "4578.4300000",
                                    "2": "1144.6075000"
                                },
                                {
                                    "0": "10330",
                                    "1": "1649.0000000",
                                    "2": "824.5000000"
                                },
                                {
                                    "0": "10331",
                                    "1": "88.5000000",
                                    "2": "88.5000000"
                                },
                                {
                                    "0": "10332",
                                    "1": "1786.8800000",
                                    "2": "595.6266666"
                                },
                                {
                                    "0": "10333",
                                    "1": "877.2000000",
                                    "2": "292.4000000"
                                },
                                {
                                    "0": "10334",
                                    "1": "144.8000000",
                                    "2": "72.4000000"
                                },
                                {
                                    "0": "10335",
                                    "1": "2036.1600000",
                                    "2": "509.0400000"
                                },
                                {
                                    "0": "10336",
                                    "1": "285.1200000",
                                    "2": "285.1200000"
                                },
                                {
                                    "0": "10337",
                                    "1": "2467.0000000",
                                    "2": "493.4000000"
                                },
                                {
                                    "0": "10338",
                                    "1": "934.5000000",
                                    "2": "467.2500000"
                                },
                                {
                                    "0": "10339",
                                    "1": "3354.0000000",
                                    "2": "1118.0000000"
                                },
                                {
                                    "0": "10340",
                                    "1": "2436.1800000",
                                    "2": "812.0600000"
                                },
                                {
                                    "0": "10341",
                                    "1": "352.6000000",
                                    "2": "176.3000000"
                                },
                                {
                                    "0": "10342",
                                    "1": "1840.6400000",
                                    "2": "460.1600000"
                                },
                                {
                                    "0": "10343",
                                    "1": "1584.0000000",
                                    "2": "528.0000000"
                                },
                                {
                                    "0": "10344",
                                    "1": "2296.0000000",
                                    "2": "1148.0000000"
                                },
                                {
                                    "0": "10345",
                                    "1": "2924.8000000",
                                    "2": "974.9333333"
                                },
                                {
                                    "0": "10346",
                                    "1": "1618.8800000",
                                    "2": "809.4400000"
                                },
                                {
                                    "0": "10347",
                                    "1": "814.4200000",
                                    "2": "203.6050000"
                                },
                                {
                                    "0": "10348",
                                    "1": "363.6000000",
                                    "2": "181.8000000"
                                },
                                {
                                    "0": "10349",
                                    "1": "141.6000000",
                                    "2": "141.6000000"
                                },
                                {
                                    "0": "10350",
                                    "1": "642.0600000",
                                    "2": "321.0300000"
                                },
                                {
                                    "0": "10351",
                                    "1": "5398.7250000",
                                    "2": "1349.6812500"
                                },
                                {
                                    "0": "10352",
                                    "1": "136.3000000",
                                    "2": "68.1500000"
                                },
                                {
                                    "0": "10353",
                                    "1": "8593.2800000",
                                    "2": "4296.6400000"
                                },
                                {
                                    "0": "10354",
                                    "1": "568.8000000",
                                    "2": "284.4000000"
                                },
                                {
                                    "0": "10355",
                                    "1": "480.0000000",
                                    "2": "240.0000000"
                                },
                                {
                                    "0": "10356",
                                    "1": "1106.4000000",
                                    "2": "368.8000000"
                                },
                                {
                                    "0": "10357",
                                    "1": "1167.6800000",
                                    "2": "389.2266666"
                                },
                                {
                                    "0": "10358",
                                    "1": "429.4000000",
                                    "2": "143.1333333"
                                },
                                {
                                    "0": "10359",
                                    "1": "3471.6800000",
                                    "2": "1157.2266666"
                                },
                                {
                                    "0": "10360",
                                    "1": "7390.2000000",
                                    "2": "1478.0400000"
                                },
                                {
                                    "0": "10361",
                                    "1": "2046.2400000",
                                    "2": "1023.1200000"
                                },
                                {
                                    "0": "10362",
                                    "1": "1549.6000000",
                                    "2": "516.5333333"
                                },
                                {
                                    "0": "10363",
                                    "1": "447.2000000",
                                    "2": "149.0666666"
                                },
                                {
                                    "0": "10364",
                                    "1": "950.0000000",
                                    "2": "475.0000000"
                                },
                                {
                                    "0": "10365",
                                    "1": "403.2000000",
                                    "2": "403.2000000"
                                },
                                {
                                    "0": "10366",
                                    "1": "136.0000000",
                                    "2": "68.0000000"
                                },
                                {
                                    "0": "10367",
                                    "1": "834.2000000",
                                    "2": "208.5500000"
                                },
                                {
                                    "0": "10368",
                                    "1": "1689.7800000",
                                    "2": "422.4450000"
                                },
                                {
                                    "0": "10369",
                                    "1": "2390.4000000",
                                    "2": "1195.2000000"
                                },
                                {
                                    "0": "10370",
                                    "1": "1117.6000000",
                                    "2": "372.5333333"
                                },
                                {
                                    "0": "10371",
                                    "1": "72.9600000",
                                    "2": "72.9600000"
                                },
                                {
                                    "0": "10372",
                                    "1": "9210.9000000",
                                    "2": "2302.7250000"
                                },
                                {
                                    "0": "10373",
                                    "1": "1366.4000000",
                                    "2": "683.2000000"
                                },
                                {
                                    "0": "10374",
                                    "1": "459.0000000",
                                    "2": "229.5000000"
                                },
                                {
                                    "0": "10375",
                                    "1": "338.0000000",
                                    "2": "169.0000000"
                                },
                                {
                                    "0": "10376",
                                    "1": "399.0000000",
                                    "2": "399.0000000"
                                },
                                {
                                    "0": "10377",
                                    "1": "863.6000000",
                                    "2": "431.8000000"
                                },
                                {
                                    "0": "10378",
                                    "1": "103.2000000",
                                    "2": "103.2000000"
                                },
                                {
                                    "0": "10379",
                                    "1": "863.2800000",
                                    "2": "287.7600000"
                                },
                                {
                                    "0": "10380",
                                    "1": "1313.8200000",
                                    "2": "328.4550000"
                                },
                                {
                                    "0": "10381",
                                    "1": "112.0000000",
                                    "2": "112.0000000"
                                },
                                {
                                    "0": "10382",
                                    "1": "2900.0000000",
                                    "2": "580.0000000"
                                },
                                {
                                    "0": "10383",
                                    "1": "899.0000000",
                                    "2": "299.6666666"
                                },
                                {
                                    "0": "10384",
                                    "1": "2222.4000000",
                                    "2": "1111.2000000"
                                },
                                {
                                    "0": "10385",
                                    "1": "691.2000000",
                                    "2": "230.4000000"
                                },
                                {
                                    "0": "10386",
                                    "1": "166.0000000",
                                    "2": "83.0000000"
                                },
                                {
                                    "0": "10387",
                                    "1": "1058.4000000",
                                    "2": "264.6000000"
                                },
                                {
                                    "0": "10388",
                                    "1": "1228.8000000",
                                    "2": "409.6000000"
                                },
                                {
                                    "0": "10389",
                                    "1": "1832.8000000",
                                    "2": "458.2000000"
                                },
                                {
                                    "0": "10390",
                                    "1": "2090.8800000",
                                    "2": "522.7200000"
                                },
                                {
                                    "0": "10391",
                                    "1": "86.4000000",
                                    "2": "86.4000000"
                                },
                                {
                                    "0": "10392",
                                    "1": "1440.0000000",
                                    "2": "1440.0000000"
                                },
                                {
                                    "0": "10393",
                                    "1": "2556.9500000",
                                    "2": "511.3900000"
                                },
                                {
                                    "0": "10394",
                                    "1": "442.0000000",
                                    "2": "221.0000000"
                                },
                                {
                                    "0": "10395",
                                    "1": "2122.9200000",
                                    "2": "707.6400000"
                                },
                                {
                                    "0": "10396",
                                    "1": "1903.8000000",
                                    "2": "634.6000000"
                                },
                                {
                                    "0": "10397",
                                    "1": "716.7200000",
                                    "2": "358.3600000"
                                },
                                {
                                    "0": "10398",
                                    "1": "2505.6000000",
                                    "2": "1252.8000000"
                                },
                                {
                                    "0": "10399",
                                    "1": "1765.6000000",
                                    "2": "441.4000000"
                                },
                                {
                                    "0": "10400",
                                    "1": "3063.0000000",
                                    "2": "1021.0000000"
                                },
                                {
                                    "0": "10401",
                                    "1": "3868.6000000",
                                    "2": "967.1500000"
                                },
                                {
                                    "0": "10402",
                                    "1": "2713.5000000",
                                    "2": "1356.7500000"
                                },
                                {
                                    "0": "10403",
                                    "1": "855.0150000",
                                    "2": "427.5075000"
                                },
                                {
                                    "0": "10404",
                                    "1": "1591.2500000",
                                    "2": "530.4166666"
                                },
                                {
                                    "0": "10405",
                                    "1": "400.0000000",
                                    "2": "400.0000000"
                                },
                                {
                                    "0": "10406",
                                    "1": "1830.7800000",
                                    "2": "366.1560000"
                                },
                                {
                                    "0": "10407",
                                    "1": "1194.0000000",
                                    "2": "398.0000000"
                                },
                                {
                                    "0": "10408",
                                    "1": "1622.4000000",
                                    "2": "540.8000000"
                                },
                                {
                                    "0": "10409",
                                    "1": "319.2000000",
                                    "2": "159.6000000"
                                },
                                {
                                    "0": "10410",
                                    "1": "802.0000000",
                                    "2": "401.0000000"
                                },
                                {
                                    "0": "10411",
                                    "1": "966.8000000",
                                    "2": "322.2666666"
                                },
                                {
                                    "0": "10412",
                                    "1": "334.8000000",
                                    "2": "334.8000000"
                                },
                                {
                                    "0": "10413",
                                    "1": "2123.2000000",
                                    "2": "707.7333333"
                                },
                                {
                                    "0": "10414",
                                    "1": "224.8300000",
                                    "2": "112.4150000"
                                },
                                {
                                    "0": "10415",
                                    "1": "102.4000000",
                                    "2": "51.2000000"
                                },
                                {
                                    "0": "10416",
                                    "1": "720.0000000",
                                    "2": "240.0000000"
                                },
                                {
                                    "0": "10417",
                                    "1": "11188.4000000",
                                    "2": "2797.1000000"
                                },
                                {
                                    "0": "10418",
                                    "1": "1814.8000000",
                                    "2": "453.7000000"
                                },
                                {
                                    "0": "10419",
                                    "1": "2097.6000000",
                                    "2": "1048.8000000"
                                },
                                {
                                    "0": "10420",
                                    "1": "1707.8400000",
                                    "2": "426.9600000"
                                },
                                {
                                    "0": "10421",
                                    "1": "1194.2700000",
                                    "2": "298.5675000"
                                },
                                {
                                    "0": "10422",
                                    "1": "49.8000000",
                                    "2": "49.8000000"
                                },
                                {
                                    "0": "10423",
                                    "1": "1020.0000000",
                                    "2": "510.0000000"
                                },
                                {
                                    "0": "10424",
                                    "1": "9194.5600000",
                                    "2": "3064.8533333"
                                },
                                {
                                    "0": "10425",
                                    "1": "360.0000000",
                                    "2": "180.0000000"
                                },
                                {
                                    "0": "10426",
                                    "1": "338.2000000",
                                    "2": "169.1000000"
                                },
                                {
                                    "0": "10427",
                                    "1": "651.0000000",
                                    "2": "651.0000000"
                                },
                                {
                                    "0": "10428",
                                    "1": "192.0000000",
                                    "2": "192.0000000"
                                },
                                {
                                    "0": "10429",
                                    "1": "1441.3750000",
                                    "2": "720.6875000"
                                },
                                {
                                    "0": "10430",
                                    "1": "4899.2000000",
                                    "2": "1224.8000000"
                                },
                                {
                                    "0": "10431",
                                    "1": "1892.2500000",
                                    "2": "630.7500000"
                                },
                                {
                                    "0": "10432",
                                    "1": "485.0000000",
                                    "2": "242.5000000"
                                },
                                {
                                    "0": "10433",
                                    "1": "851.2000000",
                                    "2": "851.2000000"
                                },
                                {
                                    "0": "10434",
                                    "1": "321.1200000",
                                    "2": "160.5600000"
                                },
                                {
                                    "0": "10435",
                                    "1": "631.6000000",
                                    "2": "210.5333333"
                                },
                                {
                                    "0": "10436",
                                    "1": "1994.5200000",
                                    "2": "498.6300000"
                                },
                                {
                                    "0": "10437",
                                    "1": "393.0000000",
                                    "2": "393.0000000"
                                },
                                {
                                    "0": "10438",
                                    "1": "454.0000000",
                                    "2": "151.3333333"
                                },
                                {
                                    "0": "10439",
                                    "1": "1078.0000000",
                                    "2": "269.5000000"
                                },
                                {
                                    "0": "10440",
                                    "1": "4924.1350000",
                                    "2": "1231.0337500"
                                },
                                {
                                    "0": "10441",
                                    "1": "1755.0000000",
                                    "2": "1755.0000000"
                                },
                                {
                                    "0": "10442",
                                    "1": "1792.0000000",
                                    "2": "597.3333333"
                                },
                                {
                                    "0": "10443",
                                    "1": "517.4400000",
                                    "2": "258.7200000"
                                },
                                {
                                    "0": "10444",
                                    "1": "1031.7000000",
                                    "2": "257.9250000"
                                },
                                {
                                    "0": "10445",
                                    "1": "174.9000000",
                                    "2": "87.4500000"
                                },
                                {
                                    "0": "10446",
                                    "1": "246.2400000",
                                    "2": "61.5600000"
                                },
                                {
                                    "0": "10447",
                                    "1": "914.4000000",
                                    "2": "304.8000000"
                                },
                                {
                                    "0": "10448",
                                    "1": "443.4000000",
                                    "2": "221.7000000"
                                },
                                {
                                    "0": "10449",
                                    "1": "1838.2000000",
                                    "2": "612.7333333"
                                },
                                {
                                    "0": "10450",
                                    "1": "425.1200000",
                                    "2": "212.5600000"
                                },
                                {
                                    "0": "10451",
                                    "1": "3849.6600000",
                                    "2": "962.4150000"
                                },
                                {
                                    "0": "10452",
                                    "1": "2018.5000000",
                                    "2": "1009.2500000"
                                },
                                {
                                    "0": "10453",
                                    "1": "407.7000000",
                                    "2": "203.8500000"
                                },
                                {
                                    "0": "10454",
                                    "1": "331.2000000",
                                    "2": "110.4000000"
                                },
                                {
                                    "0": "10455",
                                    "1": "2684.0000000",
                                    "2": "671.0000000"
                                },
                                {
                                    "0": "10456",
                                    "1": "557.6000000",
                                    "2": "278.8000000"
                                },
                                {
                                    "0": "10457",
                                    "1": "1584.0000000",
                                    "2": "1584.0000000"
                                },
                                {
                                    "0": "10458",
                                    "1": "3891.0000000",
                                    "2": "778.2000000"
                                },
                                {
                                    "0": "10459",
                                    "1": "1659.2000000",
                                    "2": "553.0666666"
                                },
                                {
                                    "0": "10460",
                                    "1": "176.1000000",
                                    "2": "88.0500000"
                                },
                                {
                                    "0": "10461",
                                    "1": "1538.7000000",
                                    "2": "512.9000000"
                                },
                                {
                                    "0": "10462",
                                    "1": "156.0000000",
                                    "2": "78.0000000"
                                },
                                {
                                    "0": "10463",
                                    "1": "713.3000000",
                                    "2": "356.6500000"
                                },
                                {
                                    "0": "10464",
                                    "1": "1609.2800000",
                                    "2": "402.3200000"
                                },
                                {
                                    "0": "10465",
                                    "1": "2518.0000000",
                                    "2": "503.6000000"
                                },
                                {
                                    "0": "10466",
                                    "1": "216.0000000",
                                    "2": "108.0000000"
                                },
                                {
                                    "0": "10467",
                                    "1": "235.2000000",
                                    "2": "117.6000000"
                                },
                                {
                                    "0": "10468",
                                    "1": "717.6000000",
                                    "2": "358.8000000"
                                },
                                {
                                    "0": "10469",
                                    "1": "956.6750000",
                                    "2": "318.8916666"
                                },
                                {
                                    "0": "10470",
                                    "1": "1820.8000000",
                                    "2": "606.9333333"
                                },
                                {
                                    "0": "10471",
                                    "1": "1328.0000000",
                                    "2": "664.0000000"
                                },
                                {
                                    "0": "10472",
                                    "1": "1036.8000000",
                                    "2": "518.4000000"
                                },
                                {
                                    "0": "10473",
                                    "1": "230.4000000",
                                    "2": "115.2000000"
                                },
                                {
                                    "0": "10474",
                                    "1": "1249.1000000",
                                    "2": "312.2750000"
                                },
                                {
                                    "0": "10475",
                                    "1": "1505.1800000",
                                    "2": "501.7266666"
                                },
                                {
                                    "0": "10476",
                                    "1": "180.4800000",
                                    "2": "90.2400000"
                                },
                                {
                                    "0": "10477",
                                    "1": "558.0000000",
                                    "2": "186.0000000"
                                },
                                {
                                    "0": "10478",
                                    "1": "471.2000000",
                                    "2": "471.2000000"
                                },
                                {
                                    "0": "10479",
                                    "1": "10495.6000000",
                                    "2": "2623.9000000"
                                },
                                {
                                    "0": "10480",
                                    "1": "756.0000000",
                                    "2": "378.0000000"
                                },
                                {
                                    "0": "10481",
                                    "1": "1472.0000000",
                                    "2": "736.0000000"
                                },
                                {
                                    "0": "10482",
                                    "1": "147.0000000",
                                    "2": "147.0000000"
                                },
                                {
                                    "0": "10483",
                                    "1": "668.8000000",
                                    "2": "334.4000000"
                                },
                                {
                                    "0": "10484",
                                    "1": "386.2000000",
                                    "2": "128.7333333"
                                },
                                {
                                    "0": "10485",
                                    "1": "1584.0000000",
                                    "2": "396.0000000"
                                },
                                {
                                    "0": "10486",
                                    "1": "1272.0000000",
                                    "2": "424.0000000"
                                },
                                {
                                    "0": "10487",
                                    "1": "889.7000000",
                                    "2": "296.5666666"
                                },
                                {
                                    "0": "10488",
                                    "1": "1512.0000000",
                                    "2": "756.0000000"
                                },
                                {
                                    "0": "10489",
                                    "1": "439.2000000",
                                    "2": "219.6000000"
                                },
                                {
                                    "0": "10490",
                                    "1": "3163.2000000",
                                    "2": "1054.4000000"
                                },
                                {
                                    "0": "10491",
                                    "1": "259.5050000",
                                    "2": "129.7525000"
                                },
                                {
                                    "0": "10492",
                                    "1": "851.2000000",
                                    "2": "425.6000000"
                                },
                                {
                                    "0": "10493",
                                    "1": "608.4000000",
                                    "2": "202.8000000"
                                },
                                {
                                    "0": "10494",
                                    "1": "912.0000000",
                                    "2": "912.0000000"
                                },
                                {
                                    "0": "10495",
                                    "1": "278.0000000",
                                    "2": "92.6666666"
                                },
                                {
                                    "0": "10496",
                                    "1": "190.0000000",
                                    "2": "190.0000000"
                                },
                                {
                                    "0": "10497",
                                    "1": "1380.6000000",
                                    "2": "460.2000000"
                                },
                                {
                                    "0": "10498",
                                    "1": "575.0000000",
                                    "2": "191.6666666"
                                },
                                {
                                    "0": "10499",
                                    "1": "1412.0000000",
                                    "2": "706.0000000"
                                },
                                {
                                    "0": "10500",
                                    "1": "523.2600000",
                                    "2": "261.6300000"
                                },
                                {
                                    "0": "10501",
                                    "1": "149.0000000",
                                    "2": "149.0000000"
                                },
                                {
                                    "0": "10502",
                                    "1": "816.3000000",
                                    "2": "272.1000000"
                                },
                                {
                                    "0": "10503",
                                    "1": "2048.5000000",
                                    "2": "1024.2500000"
                                },
                                {
                                    "0": "10504",
                                    "1": "1388.5000000",
                                    "2": "347.1250000"
                                },
                                {
                                    "0": "10505",
                                    "1": "147.9000000",
                                    "2": "147.9000000"
                                },
                                {
                                    "0": "10506",
                                    "1": "415.8000000",
                                    "2": "207.9000000"
                                },
                                {
                                    "0": "10507",
                                    "1": "749.0625000",
                                    "2": "374.5312500"
                                },
                                {
                                    "0": "10508",
                                    "1": "240.0000000",
                                    "2": "120.0000000"
                                },
                                {
                                    "0": "10509",
                                    "1": "136.8000000",
                                    "2": "136.8000000"
                                },
                                {
                                    "0": "10510",
                                    "1": "4707.5400000",
                                    "2": "2353.7700000"
                                },
                                {
                                    "0": "10511",
                                    "1": "2550.0000000",
                                    "2": "850.0000000"
                                },
                                {
                                    "0": "10512",
                                    "1": "525.3000000",
                                    "2": "131.3250000"
                                },
                                {
                                    "0": "10513",
                                    "1": "1942.0000000",
                                    "2": "647.3333333"
                                },
                                {
                                    "0": "10514",
                                    "1": "8623.4500000",
                                    "2": "1724.6900000"
                                },
                                {
                                    "0": "10515",
                                    "1": "9921.3000000",
                                    "2": "1984.2600000"
                                },
                                {
                                    "0": "10516",
                                    "1": "2381.0500000",
                                    "2": "793.6833333"
                                },
                                {
                                    "0": "10517",
                                    "1": "352.0000000",
                                    "2": "117.3333333"
                                },
                                {
                                    "0": "10518",
                                    "1": "4150.0500000",
                                    "2": "1383.3500000"
                                },
                                {
                                    "0": "10519",
                                    "1": "2314.2000000",
                                    "2": "771.4000000"
                                },
                                {
                                    "0": "10520",
                                    "1": "200.0000000",
                                    "2": "100.0000000"
                                },
                                {
                                    "0": "10521",
                                    "1": "225.5000000",
                                    "2": "75.1666666"
                                },
                                {
                                    "0": "10522",
                                    "1": "2318.2400000",
                                    "2": "579.5600000"
                                },
                                {
                                    "0": "10523",
                                    "1": "2444.3100000",
                                    "2": "611.0775000"
                                },
                                {
                                    "0": "10524",
                                    "1": "3192.6500000",
                                    "2": "798.1625000"
                                },
                                {
                                    "0": "10525",
                                    "1": "818.4000000",
                                    "2": "409.2000000"
                                },
                                {
                                    "0": "10526",
                                    "1": "1151.4000000",
                                    "2": "383.8000000"
                                },
                                {
                                    "0": "10527",
                                    "1": "1503.0000000",
                                    "2": "751.5000000"
                                },
                                {
                                    "0": "10528",
                                    "1": "392.2000000",
                                    "2": "130.7333333"
                                },
                                {
                                    "0": "10529",
                                    "1": "946.0000000",
                                    "2": "315.3333333"
                                },
                                {
                                    "0": "10530",
                                    "1": "4180.0000000",
                                    "2": "1045.0000000"
                                },
                                {
                                    "0": "10531",
                                    "1": "110.0000000",
                                    "2": "110.0000000"
                                },
                                {
                                    "0": "10532",
                                    "1": "796.3500000",
                                    "2": "398.1750000"
                                },
                                {
                                    "0": "10533",
                                    "1": "2222.2000000",
                                    "2": "740.7333333"
                                },
                                {
                                    "0": "10534",
                                    "1": "465.7000000",
                                    "2": "155.2333333"
                                },
                                {
                                    "0": "10535",
                                    "1": "1940.8500000",
                                    "2": "485.2125000"
                                },
                                {
                                    "0": "10536",
                                    "1": "1645.0000000",
                                    "2": "411.2500000"
                                },
                                {
                                    "0": "10537",
                                    "1": "1823.8000000",
                                    "2": "364.7600000"
                                },
                                {
                                    "0": "10538",
                                    "1": "139.8000000",
                                    "2": "69.9000000"
                                },
                                {
                                    "0": "10539",
                                    "1": "355.5000000",
                                    "2": "88.8750000"
                                },
                                {
                                    "0": "10540",
                                    "1": "10191.7000000",
                                    "2": "2547.9250000"
                                },
                                {
                                    "0": "10541",
                                    "1": "1946.5200000",
                                    "2": "486.6300000"
                                },
                                {
                                    "0": "10542",
                                    "1": "469.1100000",
                                    "2": "234.5550000"
                                },
                                {
                                    "0": "10543",
                                    "1": "1504.5000000",
                                    "2": "752.2500000"
                                },
                                {
                                    "0": "10544",
                                    "1": "417.2000000",
                                    "2": "208.6000000"
                                },
                                {
                                    "0": "10545",
                                    "1": "210.0000000",
                                    "2": "210.0000000"
                                },
                                {
                                    "0": "10546",
                                    "1": "2812.0000000",
                                    "2": "937.3333333"
                                },
                                {
                                    "0": "10547",
                                    "1": "1792.8000000",
                                    "2": "896.4000000"
                                },
                                {
                                    "0": "10548",
                                    "1": "240.1000000",
                                    "2": "120.0500000"
                                },
                                {
                                    "0": "10549",
                                    "1": "3554.2750000",
                                    "2": "1184.7583333"
                                },
                                {
                                    "0": "10550",
                                    "1": "683.3000000",
                                    "2": "170.8250000"
                                },
                                {
                                    "0": "10551",
                                    "1": "1677.3000000",
                                    "2": "559.1000000"
                                },
                                {
                                    "0": "10552",
                                    "1": "880.5000000",
                                    "2": "440.2500000"
                                },
                                {
                                    "0": "10553",
                                    "1": "1546.3000000",
                                    "2": "309.2600000"
                                },
                                {
                                    "0": "10554",
                                    "1": "1728.5250000",
                                    "2": "432.1312500"
                                },
                                {
                                    "0": "10555",
                                    "1": "2944.4000000",
                                    "2": "588.8800000"
                                },
                                {
                                    "0": "10556",
                                    "1": "835.2000000",
                                    "2": "835.2000000"
                                },
                                {
                                    "0": "10557",
                                    "1": "1152.5000000",
                                    "2": "576.2500000"
                                },
                                {
                                    "0": "10558",
                                    "1": "2142.9000000",
                                    "2": "428.5800000"
                                },
                                {
                                    "0": "10559",
                                    "1": "520.4100000",
                                    "2": "260.2050000"
                                },
                                {
                                    "0": "10560",
                                    "1": "1072.4250000",
                                    "2": "536.2125000"
                                },
                                {
                                    "0": "10561",
                                    "1": "2844.5000000",
                                    "2": "1422.2500000"
                                },
                                {
                                    "0": "10562",
                                    "1": "488.7000000",
                                    "2": "244.3500000"
                                },
                                {
                                    "0": "10563",
                                    "1": "965.0000000",
                                    "2": "482.5000000"
                                },
                                {
                                    "0": "10564",
                                    "1": "1234.0500000",
                                    "2": "411.3500000"
                                },
                                {
                                    "0": "10565",
                                    "1": "639.9000000",
                                    "2": "319.9500000"
                                },
                                {
                                    "0": "10566",
                                    "1": "1761.0000000",
                                    "2": "587.0000000"
                                },
                                {
                                    "0": "10567",
                                    "1": "2519.0000000",
                                    "2": "839.6666666"
                                },
                                {
                                    "0": "10568",
                                    "1": "155.0000000",
                                    "2": "155.0000000"
                                },
                                {
                                    "0": "10569",
                                    "1": "890.0000000",
                                    "2": "445.0000000"
                                },
                                {
                                    "0": "10570",
                                    "1": "2465.2500000",
                                    "2": "1232.6250000"
                                },
                                {
                                    "0": "10571",
                                    "1": "550.5875000",
                                    "2": "275.2937500"
                                },
                                {
                                    "0": "10572",
                                    "1": "1501.0850000",
                                    "2": "375.2712500"
                                },
                                {
                                    "0": "10573",
                                    "1": "2082.0000000",
                                    "2": "694.0000000"
                                },
                                {
                                    "0": "10574",
                                    "1": "764.3000000",
                                    "2": "191.0750000"
                                },
                                {
                                    "0": "10575",
                                    "1": "2147.4000000",
                                    "2": "536.8500000"
                                },
                                {
                                    "0": "10576",
                                    "1": "838.4500000",
                                    "2": "279.4833333"
                                },
                                {
                                    "0": "10577",
                                    "1": "569.0000000",
                                    "2": "189.6666666"
                                },
                                {
                                    "0": "10578",
                                    "1": "477.0000000",
                                    "2": "238.5000000"
                                },
                                {
                                    "0": "10579",
                                    "1": "317.7500000",
                                    "2": "158.8750000"
                                },
                                {
                                    "0": "10580",
                                    "1": "1013.7450000",
                                    "2": "337.9150000"
                                },
                                {
                                    "0": "10581",
                                    "1": "310.0000000",
                                    "2": "310.0000000"
                                },
                                {
                                    "0": "10582",
                                    "1": "330.0000000",
                                    "2": "165.0000000"
                                },
                                {
                                    "0": "10583",
                                    "1": "2237.5000000",
                                    "2": "745.8333333"
                                },
                                {
                                    "0": "10584",
                                    "1": "593.7500000",
                                    "2": "593.7500000"
                                },
                                {
                                    "0": "10585",
                                    "1": "142.5000000",
                                    "2": "142.5000000"
                                },
                                {
                                    "0": "10586",
                                    "1": "23.8000000",
                                    "2": "23.8000000"
                                },
                                {
                                    "0": "10587",
                                    "1": "807.3800000",
                                    "2": "269.1266666"
                                },
                                {
                                    "0": "10588",
                                    "1": "3120.0000000",
                                    "2": "1560.0000000"
                                },
                                {
                                    "0": "10589",
                                    "1": "72.0000000",
                                    "2": "72.0000000"
                                },
                                {
                                    "0": "10590",
                                    "1": "1101.0000000",
                                    "2": "550.5000000"
                                },
                                {
                                    "0": "10591",
                                    "1": "812.5000000",
                                    "2": "270.8333333"
                                },
                                {
                                    "0": "10592",
                                    "1": "516.4675000",
                                    "2": "258.2337500"
                                },
                                {
                                    "0": "10593",
                                    "1": "1994.4000000",
                                    "2": "664.8000000"
                                },
                                {
                                    "0": "10594",
                                    "1": "565.5000000",
                                    "2": "282.7500000"
                                },
                                {
                                    "0": "10595",
                                    "1": "4725.0000000",
                                    "2": "1575.0000000"
                                },
                                {
                                    "0": "10596",
                                    "1": "1180.8800000",
                                    "2": "393.6266666"
                                },
                                {
                                    "0": "10597",
                                    "1": "718.0800000",
                                    "2": "239.3600000"
                                },
                                {
                                    "0": "10598",
                                    "1": "2388.5000000",
                                    "2": "1194.2500000"
                                },
                                {
                                    "0": "10599",
                                    "1": "493.0000000",
                                    "2": "493.0000000"
                                },
                                {
                                    "0": "10600",
                                    "1": "479.8000000",
                                    "2": "239.9000000"
                                },
                                {
                                    "0": "10601",
                                    "1": "2285.0000000",
                                    "2": "1142.5000000"
                                },
                                {
                                    "0": "10602",
                                    "1": "48.7500000",
                                    "2": "48.7500000"
                                },
                                {
                                    "0": "10603",
                                    "1": "1483.0000000",
                                    "2": "741.5000000"
                                },
                                {
                                    "0": "10604",
                                    "1": "230.8500000",
                                    "2": "115.4250000"
                                },
                                {
                                    "0": "10605",
                                    "1": "4109.7000000",
                                    "2": "1027.4250000"
                                },
                                {
                                    "0": "10606",
                                    "1": "1130.4000000",
                                    "2": "376.8000000"
                                },
                                {
                                    "0": "10607",
                                    "1": "6475.4000000",
                                    "2": "1295.0800000"
                                },
                                {
                                    "0": "10608",
                                    "1": "1064.0000000",
                                    "2": "1064.0000000"
                                },
                                {
                                    "0": "10609",
                                    "1": "424.0000000",
                                    "2": "141.3333333"
                                },
                                {
                                    "0": "10610",
                                    "1": "299.2500000",
                                    "2": "299.2500000"
                                },
                                {
                                    "0": "10611",
                                    "1": "808.0000000",
                                    "2": "269.3333333"
                                },
                                {
                                    "0": "10612",
                                    "1": "6375.0000000",
                                    "2": "1275.0000000"
                                },
                                {
                                    "0": "10613",
                                    "1": "353.2000000",
                                    "2": "176.6000000"
                                },
                                {
                                    "0": "10614",
                                    "1": "464.0000000",
                                    "2": "154.6666666"
                                },
                                {
                                    "0": "10615",
                                    "1": "120.0000000",
                                    "2": "120.0000000"
                                },
                                {
                                    "0": "10616",
                                    "1": "4807.0000000",
                                    "2": "1201.7500000"
                                },
                                {
                                    "0": "10617",
                                    "1": "1402.5000000",
                                    "2": "1402.5000000"
                                },
                                {
                                    "0": "10618",
                                    "1": "2697.5000000",
                                    "2": "899.1666666"
                                },
                                {
                                    "0": "10619",
                                    "1": "1260.0000000",
                                    "2": "630.0000000"
                                },
                                {
                                    "0": "10620",
                                    "1": "57.5000000",
                                    "2": "28.7500000"
                                },
                                {
                                    "0": "10621",
                                    "1": "758.5000000",
                                    "2": "189.6250000"
                                },
                                {
                                    "0": "10622",
                                    "1": "560.0000000",
                                    "2": "280.0000000"
                                },
                                {
                                    "0": "10623",
                                    "1": "1336.9500000",
                                    "2": "267.3900000"
                                },
                                {
                                    "0": "10624",
                                    "1": "1393.2400000",
                                    "2": "464.4133333"
                                },
                                {
                                    "0": "10625",
                                    "1": "479.7500000",
                                    "2": "159.9166666"
                                },
                                {
                                    "0": "10626",
                                    "1": "1503.6000000",
                                    "2": "501.2000000"
                                },
                                {
                                    "0": "10627",
                                    "1": "1185.7500000",
                                    "2": "592.8750000"
                                },
                                {
                                    "0": "10628",
                                    "1": "450.0000000",
                                    "2": "450.0000000"
                                },
                                {
                                    "0": "10629",
                                    "1": "2775.0500000",
                                    "2": "1387.5250000"
                                },
                                {
                                    "0": "10630",
                                    "1": "903.6000000",
                                    "2": "451.8000000"
                                },
                                {
                                    "0": "10631",
                                    "1": "55.8000000",
                                    "2": "55.8000000"
                                },
                                {
                                    "0": "10632",
                                    "1": "589.0000000",
                                    "2": "294.5000000"
                                },
                                {
                                    "0": "10633",
                                    "1": "5510.5925000",
                                    "2": "1377.6481250"
                                },
                                {
                                    "0": "10634",
                                    "1": "4985.5000000",
                                    "2": "1246.3750000"
                                },
                                {
                                    "0": "10635",
                                    "1": "1326.2250000",
                                    "2": "442.0750000"
                                },
                                {
                                    "0": "10636",
                                    "1": "629.5000000",
                                    "2": "314.7500000"
                                },
                                {
                                    "0": "10637",
                                    "1": "2761.9375000",
                                    "2": "920.6458333"
                                },
                                {
                                    "0": "10638",
                                    "1": "2720.0500000",
                                    "2": "906.6833333"
                                },
                                {
                                    "0": "10639",
                                    "1": "500.0000000",
                                    "2": "500.0000000"
                                },
                                {
                                    "0": "10640",
                                    "1": "708.7500000",
                                    "2": "354.3750000"
                                },
                                {
                                    "0": "10641",
                                    "1": "2054.0000000",
                                    "2": "1027.0000000"
                                },
                                {
                                    "0": "10642",
                                    "1": "696.0000000",
                                    "2": "348.0000000"
                                },
                                {
                                    "0": "10643",
                                    "1": "814.5000000",
                                    "2": "271.5000000"
                                },
                                {
                                    "0": "10644",
                                    "1": "1371.8000000",
                                    "2": "457.2666666"
                                },
                                {
                                    "0": "10645",
                                    "1": "1535.0000000",
                                    "2": "767.5000000"
                                },
                                {
                                    "0": "10646",
                                    "1": "1446.0000000",
                                    "2": "361.5000000"
                                },
                                {
                                    "0": "10647",
                                    "1": "636.0000000",
                                    "2": "318.0000000"
                                },
                                {
                                    "0": "10648",
                                    "1": "372.3750000",
                                    "2": "186.1875000"
                                },
                                {
                                    "0": "10649",
                                    "1": "1434.0000000",
                                    "2": "717.0000000"
                                },
                                {
                                    "0": "10650",
                                    "1": "1779.2000000",
                                    "2": "593.0666666"
                                },
                                {
                                    "0": "10651",
                                    "1": "397.8000000",
                                    "2": "198.9000000"
                                },
                                {
                                    "0": "10652",
                                    "1": "318.8350000",
                                    "2": "159.4175000"
                                },
                                {
                                    "0": "10653",
                                    "1": "1083.1500000",
                                    "2": "541.5750000"
                                },
                                {
                                    "0": "10654",
                                    "1": "601.8300000",
                                    "2": "200.6100000"
                                },
                                {
                                    "0": "10655",
                                    "1": "154.4000000",
                                    "2": "154.4000000"
                                },
                                {
                                    "0": "10656",
                                    "1": "604.2150000",
                                    "2": "201.4050000"
                                },
                                {
                                    "0": "10657",
                                    "1": "4371.6000000",
                                    "2": "728.6000000"
                                },
                                {
                                    "0": "10658",
                                    "1": "4464.6000000",
                                    "2": "1116.1500000"
                                },
                                {
                                    "0": "10659",
                                    "1": "1227.0200000",
                                    "2": "409.0066666"
                                },
                                {
                                    "0": "10660",
                                    "1": "1701.0000000",
                                    "2": "1701.0000000"
                                },
                                {
                                    "0": "10661",
                                    "1": "562.6000000",
                                    "2": "281.3000000"
                                },
                                {
                                    "0": "10662",
                                    "1": "125.0000000",
                                    "2": "125.0000000"
                                },
                                {
                                    "0": "10663",
                                    "1": "1930.4000000",
                                    "2": "643.4666666"
                                },
                                {
                                    "0": "10664",
                                    "1": "1288.3875000",
                                    "2": "429.4625000"
                                },
                                {
                                    "0": "10665",
                                    "1": "1295.0000000",
                                    "2": "431.6666666"
                                },
                                {
                                    "0": "10666",
                                    "1": "4666.9400000",
                                    "2": "2333.4700000"
                                },
                                {
                                    "0": "10667",
                                    "1": "1536.8000000",
                                    "2": "768.4000000"
                                },
                                {
                                    "0": "10668",
                                    "1": "625.2750000",
                                    "2": "208.4250000"
                                },
                                {
                                    "0": "10669",
                                    "1": "570.0000000",
                                    "2": "570.0000000"
                                },
                                {
                                    "0": "10670",
                                    "1": "2301.7500000",
                                    "2": "460.3500000"
                                },
                                {
                                    "0": "10671",
                                    "1": "920.1000000",
                                    "2": "306.7000000"
                                },
                                {
                                    "0": "10672",
                                    "1": "3815.2500000",
                                    "2": "1907.6250000"
                                },
                                {
                                    "0": "10673",
                                    "1": "412.3500000",
                                    "2": "137.4500000"
                                },
                                {
                                    "0": "10674",
                                    "1": "45.0000000",
                                    "2": "45.0000000"
                                },
                                {
                                    "0": "10675",
                                    "1": "1423.0000000",
                                    "2": "474.3333333"
                                },
                                {
                                    "0": "10676",
                                    "1": "534.8500000",
                                    "2": "178.2833333"
                                },
                                {
                                    "0": "10677",
                                    "1": "813.3650000",
                                    "2": "406.6825000"
                                },
                                {
                                    "0": "10678",
                                    "1": "5256.5000000",
                                    "2": "1314.1250000"
                                },
                                {
                                    "0": "10679",
                                    "1": "660.0000000",
                                    "2": "660.0000000"
                                },
                                {
                                    "0": "10680",
                                    "1": "1261.8750000",
                                    "2": "420.6250000"
                                },
                                {
                                    "0": "10681",
                                    "1": "1287.4000000",
                                    "2": "429.1333333"
                                },
                                {
                                    "0": "10682",
                                    "1": "375.5000000",
                                    "2": "125.1666666"
                                },
                                {
                                    "0": "10683",
                                    "1": "63.0000000",
                                    "2": "63.0000000"
                                },
                                {
                                    "0": "10684",
                                    "1": "1768.0000000",
                                    "2": "589.3333333"
                                },
                                {
                                    "0": "10685",
                                    "1": "801.1000000",
                                    "2": "267.0333333"
                                },
                                {
                                    "0": "10686",
                                    "1": "1404.4500000",
                                    "2": "702.2250000"
                                },
                                {
                                    "0": "10687",
                                    "1": "4960.9000000",
                                    "2": "1653.6333333"
                                },
                                {
                                    "0": "10688",
                                    "1": "3160.6000000",
                                    "2": "1053.5333333"
                                },
                                {
                                    "0": "10689",
                                    "1": "472.5000000",
                                    "2": "472.5000000"
                                },
                                {
                                    "0": "10690",
                                    "1": "862.5000000",
                                    "2": "431.2500000"
                                },
                                {
                                    "0": "10691",
                                    "1": "10164.8000000",
                                    "2": "2032.9600000"
                                },
                                {
                                    "0": "10692",
                                    "1": "878.0000000",
                                    "2": "878.0000000"
                                },
                                {
                                    "0": "10693",
                                    "1": "2071.2000000",
                                    "2": "517.8000000"
                                },
                                {
                                    "0": "10694",
                                    "1": "4825.0000000",
                                    "2": "1608.3333333"
                                },
                                {
                                    "0": "10695",
                                    "1": "642.0000000",
                                    "2": "214.0000000"
                                },
                                {
                                    "0": "10696",
                                    "1": "996.0000000",
                                    "2": "498.0000000"
                                },
                                {
                                    "0": "10697",
                                    "1": "805.4250000",
                                    "2": "201.3562500"
                                },
                                {
                                    "0": "10698",
                                    "1": "3436.4435000",
                                    "2": "687.2887000"
                                },
                                {
                                    "0": "10699",
                                    "1": "114.0000000",
                                    "2": "114.0000000"
                                },
                                {
                                    "0": "10700",
                                    "1": "1638.4000000",
                                    "2": "409.6000000"
                                },
                                {
                                    "0": "10701",
                                    "1": "2864.5000000",
                                    "2": "954.8333333"
                                },
                                {
                                    "0": "10702",
                                    "1": "330.0000000",
                                    "2": "165.0000000"
                                },
                                {
                                    "0": "10703",
                                    "1": "2545.0000000",
                                    "2": "848.3333333"
                                },
                                {
                                    "0": "10704",
                                    "1": "595.5000000",
                                    "2": "198.5000000"
                                },
                                {
                                    "0": "10705",
                                    "1": "378.0000000",
                                    "2": "189.0000000"
                                },
                                {
                                    "0": "10706",
                                    "1": "1893.0000000",
                                    "2": "631.0000000"
                                },
                                {
                                    "0": "10707",
                                    "1": "1641.0000000",
                                    "2": "547.0000000"
                                },
                                {
                                    "0": "10708",
                                    "1": "180.4000000",
                                    "2": "90.2000000"
                                },
                                {
                                    "0": "10709",
                                    "1": "3424.0000000",
                                    "2": "1141.3333333"
                                },
                                {
                                    "0": "10710",
                                    "1": "93.5000000",
                                    "2": "46.7500000"
                                },
                                {
                                    "0": "10711",
                                    "1": "4451.7000000",
                                    "2": "1483.9000000"
                                },
                                {
                                    "0": "10712",
                                    "1": "1233.4800000",
                                    "2": "616.7400000"
                                },
                                {
                                    "0": "10713",
                                    "1": "2827.9000000",
                                    "2": "706.9750000"
                                },
                                {
                                    "0": "10714",
                                    "1": "2205.7500000",
                                    "2": "441.1500000"
                                },
                                {
                                    "0": "10715",
                                    "1": "1296.0000000",
                                    "2": "648.0000000"
                                },
                                {
                                    "0": "10716",
                                    "1": "706.0000000",
                                    "2": "235.3333333"
                                },
                                {
                                    "0": "10717",
                                    "1": "1270.7500000",
                                    "2": "423.5833333"
                                },
                                {
                                    "0": "10718",
                                    "1": "3463.0000000",
                                    "2": "865.7500000"
                                },
                                {
                                    "0": "10719",
                                    "1": "844.2525000",
                                    "2": "281.4175000"
                                },
                                {
                                    "0": "10720",
                                    "1": "550.0000000",
                                    "2": "275.0000000"
                                },
                                {
                                    "0": "10721",
                                    "1": "923.8750000",
                                    "2": "923.8750000"
                                },
                                {
                                    "0": "10722",
                                    "1": "1570.0000000",
                                    "2": "392.5000000"
                                },
                                {
                                    "0": "10723",
                                    "1": "468.4500000",
                                    "2": "468.4500000"
                                },
                                {
                                    "0": "10724",
                                    "1": "638.5000000",
                                    "2": "319.2500000"
                                },
                                {
                                    "0": "10725",
                                    "1": "287.8000000",
                                    "2": "95.9333333"
                                },
                                {
                                    "0": "10726",
                                    "1": "655.0000000",
                                    "2": "327.5000000"
                                },
                                {
                                    "0": "10727",
                                    "1": "1624.5000000",
                                    "2": "541.5000000"
                                },
                                {
                                    "0": "10728",
                                    "1": "1296.7500000",
                                    "2": "324.1875000"
                                },
                                {
                                    "0": "10729",
                                    "1": "1850.0000000",
                                    "2": "616.6666666"
                                },
                                {
                                    "0": "10730",
                                    "1": "484.2625000",
                                    "2": "161.4208333"
                                },
                                {
                                    "0": "10731",
                                    "1": "1890.5000000",
                                    "2": "945.2500000"
                                },
                                {
                                    "0": "10732",
                                    "1": "360.0000000",
                                    "2": "360.0000000"
                                },
                                {
                                    "0": "10733",
                                    "1": "1459.0000000",
                                    "2": "486.3333333"
                                },
                                {
                                    "0": "10734",
                                    "1": "1498.3500000",
                                    "2": "499.4500000"
                                },
                                {
                                    "0": "10735",
                                    "1": "536.4000000",
                                    "2": "268.2000000"
                                },
                                {
                                    "0": "10736",
                                    "1": "997.0000000",
                                    "2": "498.5000000"
                                },
                                {
                                    "0": "10737",
                                    "1": "139.8000000",
                                    "2": "69.9000000"
                                },
                                {
                                    "0": "10738",
                                    "1": "52.3500000",
                                    "2": "52.3500000"
                                },
                                {
                                    "0": "10739",
                                    "1": "240.0000000",
                                    "2": "120.0000000"
                                },
                                {
                                    "0": "10740",
                                    "1": "1416.0000000",
                                    "2": "354.0000000"
                                },
                                {
                                    "0": "10741",
                                    "1": "228.0000000",
                                    "2": "228.0000000"
                                },
                                {
                                    "0": "10742",
                                    "1": "3118.0000000",
                                    "2": "1039.3333333"
                                },
                                {
                                    "0": "10743",
                                    "1": "319.2000000",
                                    "2": "319.2000000"
                                },
                                {
                                    "0": "10744",
                                    "1": "736.0000000",
                                    "2": "736.0000000"
                                },
                                {
                                    "0": "10745",
                                    "1": "4529.8000000",
                                    "2": "1132.4500000"
                                },
                                {
                                    "0": "10746",
                                    "1": "2311.7000000",
                                    "2": "577.9250000"
                                },
                                {
                                    "0": "10747",
                                    "1": "1912.8500000",
                                    "2": "478.2125000"
                                },
                                {
                                    "0": "10748",
                                    "1": "2196.0000000",
                                    "2": "732.0000000"
                                },
                                {
                                    "0": "10749",
                                    "1": "1080.0000000",
                                    "2": "360.0000000"
                                },
                                {
                                    "0": "10750",
                                    "1": "1590.5625000",
                                    "2": "530.1875000"
                                },
                                {
                                    "0": "10751",
                                    "1": "1631.4840000",
                                    "2": "407.8710000"
                                },
                                {
                                    "0": "10752",
                                    "1": "252.0000000",
                                    "2": "126.0000000"
                                },
                                {
                                    "0": "10753",
                                    "1": "88.0000000",
                                    "2": "44.0000000"
                                },
                                {
                                    "0": "10754",
                                    "1": "55.2000000",
                                    "2": "55.2000000"
                                },
                                {
                                    "0": "10755",
                                    "1": "1948.5000000",
                                    "2": "487.1250000"
                                },
                                {
                                    "0": "10756",
                                    "1": "1990.0000000",
                                    "2": "497.5000000"
                                },
                                {
                                    "0": "10757",
                                    "1": "3082.0000000",
                                    "2": "770.5000000"
                                },
                                {
                                    "0": "10758",
                                    "1": "1644.6000000",
                                    "2": "548.2000000"
                                },
                                {
                                    "0": "10759",
                                    "1": "320.0000000",
                                    "2": "320.0000000"
                                },
                                {
                                    "0": "10760",
                                    "1": "2917.0000000",
                                    "2": "972.3333333"
                                },
                                {
                                    "0": "10761",
                                    "1": "507.0000000",
                                    "2": "253.5000000"
                                },
                                {
                                    "0": "10762",
                                    "1": "4337.0000000",
                                    "2": "1084.2500000"
                                },
                                {
                                    "0": "10763",
                                    "1": "616.0000000",
                                    "2": "205.3333333"
                                },
                                {
                                    "0": "10764",
                                    "1": "2286.0000000",
                                    "2": "1143.0000000"
                                },
                                {
                                    "0": "10765",
                                    "1": "1515.6000000",
                                    "2": "1515.6000000"
                                },
                                {
                                    "0": "10766",
                                    "1": "2310.0000000",
                                    "2": "770.0000000"
                                },
                                {
                                    "0": "10767",
                                    "1": "28.0000000",
                                    "2": "28.0000000"
                                },
                                {
                                    "0": "10768",
                                    "1": "1477.0000000",
                                    "2": "369.2500000"
                                },
                                {
                                    "0": "10769",
                                    "1": "1684.2750000",
                                    "2": "421.0687500"
                                },
                                {
                                    "0": "10770",
                                    "1": "236.2500000",
                                    "2": "236.2500000"
                                },
                                {
                                    "0": "10771",
                                    "1": "344.0000000",
                                    "2": "344.0000000"
                                },
                                {
                                    "0": "10772",
                                    "1": "3603.2200000",
                                    "2": "1801.6100000"
                                },
                                {
                                    "0": "10773",
                                    "1": "2030.4000000",
                                    "2": "676.8000000"
                                },
                                {
                                    "0": "10774",
                                    "1": "868.7500000",
                                    "2": "434.3750000"
                                },
                                {
                                    "0": "10775",
                                    "1": "228.0000000",
                                    "2": "114.0000000"
                                },
                                {
                                    "0": "10776",
                                    "1": "6635.2750000",
                                    "2": "1658.8187500"
                                },
                                {
                                    "0": "10777",
                                    "1": "224.0000000",
                                    "2": "224.0000000"
                                },
                                {
                                    "0": "10778",
                                    "1": "96.5000000",
                                    "2": "96.5000000"
                                },
                                {
                                    "0": "10779",
                                    "1": "1335.0000000",
                                    "2": "667.5000000"
                                },
                                {
                                    "0": "10780",
                                    "1": "720.0000000",
                                    "2": "360.0000000"
                                },
                                {
                                    "0": "10781",
                                    "1": "975.8800000",
                                    "2": "325.2933333"
                                },
                                {
                                    "0": "10782",
                                    "1": "12.5000000",
                                    "2": "12.5000000"
                                },
                                {
                                    "0": "10783",
                                    "1": "1442.5000000",
                                    "2": "721.2500000"
                                },
                                {
                                    "0": "10784",
                                    "1": "1488.0000000",
                                    "2": "496.0000000"
                                },
                                {
                                    "0": "10785",
                                    "1": "387.5000000",
                                    "2": "193.7500000"
                                },
                                {
                                    "0": "10786",
                                    "1": "1531.0800000",
                                    "2": "510.3600000"
                                },
                                {
                                    "0": "10787",
                                    "1": "2622.7600000",
                                    "2": "1311.3800000"
                                },
                                {
                                    "0": "10788",
                                    "1": "731.5000000",
                                    "2": "365.7500000"
                                },
                                {
                                    "0": "10789",
                                    "1": "3687.0000000",
                                    "2": "921.7500000"
                                },
                                {
                                    "0": "10790",
                                    "1": "722.5000000",
                                    "2": "361.2500000"
                                },
                                {
                                    "0": "10791",
                                    "1": "1829.7570000",
                                    "2": "914.8785000"
                                },
                                {
                                    "0": "10792",
                                    "1": "399.8500000",
                                    "2": "133.2833333"
                                },
                                {
                                    "0": "10793",
                                    "1": "191.1000000",
                                    "2": "95.5500000"
                                },
                                {
                                    "0": "10794",
                                    "1": "314.7600000",
                                    "2": "157.3800000"
                                },
                                {
                                    "0": "10795",
                                    "1": "2158.0000000",
                                    "2": "1079.0000000"
                                },
                                {
                                    "0": "10796",
                                    "1": "2341.3640000",
                                    "2": "585.3410000"
                                },
                                {
                                    "0": "10797",
                                    "1": "420.0000000",
                                    "2": "420.0000000"
                                },
                                {
                                    "0": "10798",
                                    "1": "446.6000000",
                                    "2": "223.3000000"
                                },
                                {
                                    "0": "10799",
                                    "1": "1553.5000000",
                                    "2": "517.8333333"
                                },
                                {
                                    "0": "10800",
                                    "1": "1468.9350000",
                                    "2": "489.6450000"
                                },
                                {
                                    "0": "10801",
                                    "1": "3026.8500000",
                                    "2": "1513.4250000"
                                },
                                {
                                    "0": "10802",
                                    "1": "2942.8125000",
                                    "2": "735.7031250"
                                },
                                {
                                    "0": "10803",
                                    "1": "1193.0100000",
                                    "2": "397.6700000"
                                },
                                {
                                    "0": "10804",
                                    "1": "2278.4000000",
                                    "2": "759.4666666"
                                },
                                {
                                    "0": "10805",
                                    "1": "2775.0000000",
                                    "2": "1387.5000000"
                                },
                                {
                                    "0": "10806",
                                    "1": "439.6000000",
                                    "2": "146.5333333"
                                },
                                {
                                    "0": "10807",
                                    "1": "18.4000000",
                                    "2": "18.4000000"
                                },
                                {
                                    "0": "10808",
                                    "1": "1411.0000000",
                                    "2": "705.5000000"
                                },
                                {
                                    "0": "10809",
                                    "1": "140.0000000",
                                    "2": "140.0000000"
                                },
                                {
                                    "0": "10810",
                                    "1": "187.0000000",
                                    "2": "62.3333333"
                                },
                                {
                                    "0": "10811",
                                    "1": "852.0000000",
                                    "2": "284.0000000"
                                },
                                {
                                    "0": "10812",
                                    "1": "1692.8000000",
                                    "2": "564.2666666"
                                },
                                {
                                    "0": "10813",
                                    "1": "602.4000000",
                                    "2": "301.2000000"
                                },
                                {
                                    "0": "10814",
                                    "1": "1788.4500000",
                                    "2": "447.1125000"
                                },
                                {
                                    "0": "10815",
                                    "1": "40.0000000",
                                    "2": "40.0000000"
                                },
                                {
                                    "0": "10816",
                                    "1": "8446.4500000",
                                    "2": "4223.2250000"
                                },
                                {
                                    "0": "10817",
                                    "1": "10952.8450000",
                                    "2": "2738.2112500"
                                },
                                {
                                    "0": "10818",
                                    "1": "833.0000000",
                                    "2": "416.5000000"
                                },
                                {
                                    "0": "10819",
                                    "1": "477.0000000",
                                    "2": "238.5000000"
                                },
                                {
                                    "0": "10820",
                                    "1": "1140.0000000",
                                    "2": "1140.0000000"
                                },
                                {
                                    "0": "10821",
                                    "1": "678.0000000",
                                    "2": "339.0000000"
                                },
                                {
                                    "0": "10822",
                                    "1": "237.9000000",
                                    "2": "118.9500000"
                                },
                                {
                                    "0": "10823",
                                    "1": "2826.0000000",
                                    "2": "706.5000000"
                                },
                                {
                                    "0": "10824",
                                    "1": "250.8000000",
                                    "2": "125.4000000"
                                },
                                {
                                    "0": "10825",
                                    "1": "1030.7600000",
                                    "2": "515.3800000"
                                },
                                {
                                    "0": "10826",
                                    "1": "730.0000000",
                                    "2": "365.0000000"
                                },
                                {
                                    "0": "10827",
                                    "1": "843.0000000",
                                    "2": "421.5000000"
                                },
                                {
                                    "0": "10828",
                                    "1": "932.0000000",
                                    "2": "466.0000000"
                                },
                                {
                                    "0": "10829",
                                    "1": "1764.0000000",
                                    "2": "441.0000000"
                                },
                                {
                                    "0": "10830",
                                    "1": "1974.0000000",
                                    "2": "493.5000000"
                                },
                                {
                                    "0": "10831",
                                    "1": "2684.4000000",
                                    "2": "671.1000000"
                                },
                                {
                                    "0": "10832",
                                    "1": "475.1100000",
                                    "2": "118.7775000"
                                },
                                {
                                    "0": "10833",
                                    "1": "906.9300000",
                                    "2": "302.3100000"
                                },
                                {
                                    "0": "10834",
                                    "1": "1432.7140000",
                                    "2": "716.3570000"
                                },
                                {
                                    "0": "10835",
                                    "1": "845.8000000",
                                    "2": "422.9000000"
                                },
                                {
                                    "0": "10836",
                                    "1": "4705.5000000",
                                    "2": "941.1000000"
                                },
                                {
                                    "0": "10837",
                                    "1": "1064.5000000",
                                    "2": "266.1250000"
                                },
                                {
                                    "0": "10838",
                                    "1": "1938.3750000",
                                    "2": "646.1250000"
                                },
                                {
                                    "0": "10839",
                                    "1": "827.5500000",
                                    "2": "413.7750000"
                                },
                                {
                                    "0": "10840",
                                    "1": "211.2000000",
                                    "2": "105.6000000"
                                },
                                {
                                    "0": "10841",
                                    "1": "4581.0000000",
                                    "2": "1145.2500000"
                                },
                                {
                                    "0": "10842",
                                    "1": "975.0000000",
                                    "2": "243.7500000"
                                },
                                {
                                    "0": "10843",
                                    "1": "159.0000000",
                                    "2": "159.0000000"
                                },
                                {
                                    "0": "10844",
                                    "1": "735.0000000",
                                    "2": "735.0000000"
                                },
                                {
                                    "0": "10845",
                                    "1": "3812.7000000",
                                    "2": "762.5400000"
                                },
                                {
                                    "0": "10846",
                                    "1": "1112.0000000",
                                    "2": "370.6666666"
                                },
                                {
                                    "0": "10847",
                                    "1": "4931.9200000",
                                    "2": "821.9866666"
                                },
                                {
                                    "0": "10848",
                                    "1": "931.5000000",
                                    "2": "465.7500000"
                                },
                                {
                                    "0": "10849",
                                    "1": "967.8190000",
                                    "2": "483.9095000"
                                },
                                {
                                    "0": "10850",
                                    "1": "629.0000000",
                                    "2": "209.6666666"
                                },
                                {
                                    "0": "10851",
                                    "1": "2603.0000000",
                                    "2": "650.7500000"
                                },
                                {
                                    "0": "10852",
                                    "1": "2984.0000000",
                                    "2": "994.6666666"
                                },
                                {
                                    "0": "10853",
                                    "1": "625.0000000",
                                    "2": "625.0000000"
                                },
                                {
                                    "0": "10854",
                                    "1": "2966.5000000",
                                    "2": "1483.2500000"
                                },
                                {
                                    "0": "10855",
                                    "1": "2227.8875000",
                                    "2": "556.9718750"
                                },
                                {
                                    "0": "10856",
                                    "1": "660.0000000",
                                    "2": "330.0000000"
                                },
                                {
                                    "0": "10857",
                                    "1": "2048.2125000",
                                    "2": "682.7375000"
                                },
                                {
                                    "0": "10858",
                                    "1": "649.0000000",
                                    "2": "216.3333333"
                                },
                                {
                                    "0": "10859",
                                    "1": "1078.6875000",
                                    "2": "359.5625000"
                                },
                                {
                                    "0": "10860",
                                    "1": "519.0000000",
                                    "2": "259.5000000"
                                },
                                {
                                    "0": "10861",
                                    "1": "3523.4000000",
                                    "2": "704.6800000"
                                },
                                {
                                    "0": "10862",
                                    "1": "581.0000000",
                                    "2": "290.5000000"
                                },
                                {
                                    "0": "10863",
                                    "1": "441.1500000",
                                    "2": "220.5750000"
                                },
                                {
                                    "0": "10864",
                                    "1": "282.0000000",
                                    "2": "141.0000000"
                                },
                                {
                                    "0": "10865",
                                    "1": "16387.5000000",
                                    "2": "8193.7500000"
                                },
                                {
                                    "0": "10866",
                                    "1": "1096.2000000",
                                    "2": "365.4000000"
                                },
                                {
                                    "0": "10867",
                                    "1": "98.4000000",
                                    "2": "98.4000000"
                                },
                                {
                                    "0": "10868",
                                    "1": "1920.6000000",
                                    "2": "640.2000000"
                                },
                                {
                                    "0": "10869",
                                    "1": "1630.0000000",
                                    "2": "407.5000000"
                                },
                                {
                                    "0": "10870",
                                    "1": "160.0000000",
                                    "2": "80.0000000"
                                },
                                {
                                    "0": "10871",
                                    "1": "1979.2300000",
                                    "2": "659.7433333"
                                },
                                {
                                    "0": "10872",
                                    "1": "2058.4600000",
                                    "2": "514.6150000"
                                },
                                {
                                    "0": "10873",
                                    "1": "336.8000000",
                                    "2": "168.4000000"
                                },
                                {
                                    "0": "10874",
                                    "1": "310.0000000",
                                    "2": "310.0000000"
                                },
                                {
                                    "0": "10875",
                                    "1": "709.5500000",
                                    "2": "236.5166666"
                                },
                                {
                                    "0": "10876",
                                    "1": "917.0000000",
                                    "2": "458.5000000"
                                },
                                {
                                    "0": "10877",
                                    "1": "1955.1250000",
                                    "2": "977.5625000"
                                },
                                {
                                    "0": "10878",
                                    "1": "1539.0000000",
                                    "2": "1539.0000000"
                                },
                                {
                                    "0": "10879",
                                    "1": "611.3000000",
                                    "2": "203.7666666"
                                },
                                {
                                    "0": "10880",
                                    "1": "1500.0000000",
                                    "2": "500.0000000"
                                },
                                {
                                    "0": "10881",
                                    "1": "150.0000000",
                                    "2": "150.0000000"
                                },
                                {
                                    "0": "10882",
                                    "1": "892.6400000",
                                    "2": "297.5466666"
                                },
                                {
                                    "0": "10883",
                                    "1": "36.0000000",
                                    "2": "36.0000000"
                                },
                                {
                                    "0": "10884",
                                    "1": "1378.0700000",
                                    "2": "459.3566666"
                                },
                                {
                                    "0": "10885",
                                    "1": "1209.0000000",
                                    "2": "302.2500000"
                                },
                                {
                                    "0": "10886",
                                    "1": "3127.5000000",
                                    "2": "1042.5000000"
                                },
                                {
                                    "0": "10887",
                                    "1": "70.0000000",
                                    "2": "70.0000000"
                                },
                                {
                                    "0": "10888",
                                    "1": "605.0000000",
                                    "2": "302.5000000"
                                },
                                {
                                    "0": "10889",
                                    "1": "11380.0000000",
                                    "2": "5690.0000000"
                                },
                                {
                                    "0": "10890",
                                    "1": "860.1000000",
                                    "2": "286.7000000"
                                },
                                {
                                    "0": "10891",
                                    "1": "368.9325000",
                                    "2": "368.9325000"
                                },
                                {
                                    "0": "10892",
                                    "1": "2090.0000000",
                                    "2": "2090.0000000"
                                },
                                {
                                    "0": "10893",
                                    "1": "5502.1100000",
                                    "2": "1100.4220000"
                                },
                                {
                                    "0": "10894",
                                    "1": "2753.1000000",
                                    "2": "917.7000000"
                                },
                                {
                                    "0": "10895",
                                    "1": "6379.4000000",
                                    "2": "1594.8500000"
                                },
                                {
                                    "0": "10896",
                                    "1": "750.5000000",
                                    "2": "375.2500000"
                                },
                                {
                                    "0": "10897",
                                    "1": "10835.2400000",
                                    "2": "5417.6200000"
                                },
                                {
                                    "0": "10898",
                                    "1": "30.0000000",
                                    "2": "30.0000000"
                                },
                                {
                                    "0": "10899",
                                    "1": "122.4000000",
                                    "2": "122.4000000"
                                },
                                {
                                    "0": "10900",
                                    "1": "33.7500000",
                                    "2": "33.7500000"
                                },
                                {
                                    "0": "10901",
                                    "1": "934.5000000",
                                    "2": "467.2500000"
                                },
                                {
                                    "0": "10902",
                                    "1": "863.4300000",
                                    "2": "431.7150000"
                                },
                                {
                                    "0": "10903",
                                    "1": "932.0500000",
                                    "2": "310.6833333"
                                },
                                {
                                    "0": "10904",
                                    "1": "1924.2500000",
                                    "2": "962.1250000"
                                },
                                {
                                    "0": "10905",
                                    "1": "342.0000000",
                                    "2": "342.0000000"
                                },
                                {
                                    "0": "10906",
                                    "1": "427.5000000",
                                    "2": "427.5000000"
                                },
                                {
                                    "0": "10907",
                                    "1": "108.5000000",
                                    "2": "108.5000000"
                                },
                                {
                                    "0": "10908",
                                    "1": "663.1000000",
                                    "2": "331.5500000"
                                },
                                {
                                    "0": "10909",
                                    "1": "670.0000000",
                                    "2": "223.3333333"
                                },
                                {
                                    "0": "10910",
                                    "1": "452.9000000",
                                    "2": "150.9666666"
                                },
                                {
                                    "0": "10911",
                                    "1": "858.0000000",
                                    "2": "286.0000000"
                                },
                                {
                                    "0": "10912",
                                    "1": "6200.5500000",
                                    "2": "3100.2750000"
                                },
                                {
                                    "0": "10913",
                                    "1": "768.7500000",
                                    "2": "256.2500000"
                                },
                                {
                                    "0": "10914",
                                    "1": "537.5000000",
                                    "2": "537.5000000"
                                },
                                {
                                    "0": "10915",
                                    "1": "539.5000000",
                                    "2": "179.8333333"
                                },
                                {
                                    "0": "10916",
                                    "1": "686.7000000",
                                    "2": "228.9000000"
                                },
                                {
                                    "0": "10917",
                                    "1": "365.8900000",
                                    "2": "182.9450000"
                                },
                                {
                                    "0": "10918",
                                    "1": "1447.5000000",
                                    "2": "723.7500000"
                                },
                                {
                                    "0": "10919",
                                    "1": "1122.8000000",
                                    "2": "374.2666666"
                                },
                                {
                                    "0": "10920",
                                    "1": "390.0000000",
                                    "2": "390.0000000"
                                },
                                {
                                    "0": "10921",
                                    "1": "1936.0000000",
                                    "2": "968.0000000"
                                },
                                {
                                    "0": "10922",
                                    "1": "742.5000000",
                                    "2": "371.2500000"
                                },
                                {
                                    "0": "10923",
                                    "1": "748.8000000",
                                    "2": "249.6000000"
                                },
                                {
                                    "0": "10924",
                                    "1": "1835.7000000",
                                    "2": "611.9000000"
                                },
                                {
                                    "0": "10925",
                                    "1": "475.1500000",
                                    "2": "237.5750000"
                                },
                                {
                                    "0": "10926",
                                    "1": "514.4000000",
                                    "2": "128.6000000"
                                },
                                {
                                    "0": "10927",
                                    "1": "800.0000000",
                                    "2": "266.6666666"
                                },
                                {
                                    "0": "10928",
                                    "1": "137.5000000",
                                    "2": "68.7500000"
                                },
                                {
                                    "0": "10929",
                                    "1": "1174.7500000",
                                    "2": "391.5833333"
                                },
                                {
                                    "0": "10930",
                                    "1": "2255.5000000",
                                    "2": "563.8750000"
                                },
                                {
                                    "0": "10931",
                                    "1": "799.2000000",
                                    "2": "399.6000000"
                                },
                                {
                                    "0": "10932",
                                    "1": "1788.6300000",
                                    "2": "447.1575000"
                                },
                                {
                                    "0": "10933",
                                    "1": "920.6000000",
                                    "2": "460.3000000"
                                },
                                {
                                    "0": "10934",
                                    "1": "500.0000000",
                                    "2": "500.0000000"
                                },
                                {
                                    "0": "10935",
                                    "1": "619.5000000",
                                    "2": "206.5000000"
                                },
                                {
                                    "0": "10936",
                                    "1": "456.0000000",
                                    "2": "456.0000000"
                                },
                                {
                                    "0": "10937",
                                    "1": "644.8000000",
                                    "2": "322.4000000"
                                },
                                {
                                    "0": "10938",
                                    "1": "2731.8750000",
                                    "2": "682.9687500"
                                },
                                {
                                    "0": "10939",
                                    "1": "637.5000000",
                                    "2": "318.7500000"
                                },
                                {
                                    "0": "10940",
                                    "1": "360.0000000",
                                    "2": "180.0000000"
                                },
                                {
                                    "0": "10941",
                                    "1": "4011.7500000",
                                    "2": "1002.9375000"
                                },
                                {
                                    "0": "10942",
                                    "1": "560.0000000",
                                    "2": "560.0000000"
                                },
                                {
                                    "0": "10943",
                                    "1": "711.0000000",
                                    "2": "237.0000000"
                                },
                                {
                                    "0": "10944",
                                    "1": "1025.3250000",
                                    "2": "341.7750000"
                                },
                                {
                                    "0": "10945",
                                    "1": "245.0000000",
                                    "2": "122.5000000"
                                },
                                {
                                    "0": "10946",
                                    "1": "1407.5000000",
                                    "2": "469.1666666"
                                },
                                {
                                    "0": "10947",
                                    "1": "220.0000000",
                                    "2": "220.0000000"
                                },
                                {
                                    "0": "10948",
                                    "1": "2362.2500000",
                                    "2": "787.4166666"
                                },
                                {
                                    "0": "10949",
                                    "1": "4422.0000000",
                                    "2": "1105.5000000"
                                },
                                {
                                    "0": "10950",
                                    "1": "110.0000000",
                                    "2": "110.0000000"
                                },
                                {
                                    "0": "10951",
                                    "1": "458.7550000",
                                    "2": "152.9183333"
                                },
                                {
                                    "0": "10952",
                                    "1": "471.2000000",
                                    "2": "235.6000000"
                                },
                                {
                                    "0": "10953",
                                    "1": "4441.2500000",
                                    "2": "2220.6250000"
                                },
                                {
                                    "0": "10954",
                                    "1": "1659.5350000",
                                    "2": "414.8837500"
                                },
                                {
                                    "0": "10955",
                                    "1": "74.4000000",
                                    "2": "74.4000000"
                                },
                                {
                                    "0": "10956",
                                    "1": "677.0000000",
                                    "2": "225.6666666"
                                },
                                {
                                    "0": "10957",
                                    "1": "1762.7000000",
                                    "2": "587.5666666"
                                },
                                {
                                    "0": "10958",
                                    "1": "781.0000000",
                                    "2": "260.3333333"
                                },
                                {
                                    "0": "10959",
                                    "1": "131.7500000",
                                    "2": "131.7500000"
                                },
                                {
                                    "0": "10960",
                                    "1": "265.3500000",
                                    "2": "132.6750000"
                                },
                                {
                                    "0": "10961",
                                    "1": "1119.9000000",
                                    "2": "559.9500000"
                                },
                                {
                                    "0": "10962",
                                    "1": "3584.0000000",
                                    "2": "716.8000000"
                                },
                                {
                                    "0": "10963",
                                    "1": "57.8000000",
                                    "2": "57.8000000"
                                },
                                {
                                    "0": "10964",
                                    "1": "2052.5000000",
                                    "2": "684.1666666"
                                },
                                {
                                    "0": "10965",
                                    "1": "848.0000000",
                                    "2": "848.0000000"
                                },
                                {
                                    "0": "10966",
                                    "1": "1098.4600000",
                                    "2": "366.1533333"
                                },
                                {
                                    "0": "10967",
                                    "1": "910.4000000",
                                    "2": "455.2000000"
                                },
                                {
                                    "0": "10968",
                                    "1": "1408.0000000",
                                    "2": "469.3333333"
                                },
                                {
                                    "0": "10969",
                                    "1": "108.0000000",
                                    "2": "108.0000000"
                                },
                                {
                                    "0": "10970",
                                    "1": "224.0000000",
                                    "2": "224.0000000"
                                },
                                {
                                    "0": "10971",
                                    "1": "1733.0600000",
                                    "2": "1733.0600000"
                                },
                                {
                                    "0": "10972",
                                    "1": "251.5000000",
                                    "2": "125.7500000"
                                },
                                {
                                    "0": "10973",
                                    "1": "291.5500000",
                                    "2": "97.1833333"
                                },
                                {
                                    "0": "10974",
                                    "1": "439.0000000",
                                    "2": "439.0000000"
                                },
                                {
                                    "0": "10975",
                                    "1": "717.5000000",
                                    "2": "358.7500000"
                                },
                                {
                                    "0": "10976",
                                    "1": "912.0000000",
                                    "2": "912.0000000"
                                },
                                {
                                    "0": "10977",
                                    "1": "2233.0000000",
                                    "2": "558.2500000"
                                },
                                {
                                    "0": "10978",
                                    "1": "1303.1950000",
                                    "2": "325.7987500"
                                },
                                {
                                    "0": "10979",
                                    "1": "4813.5000000",
                                    "2": "802.2500000"
                                },
                                {
                                    "0": "10980",
                                    "1": "248.0000000",
                                    "2": "248.0000000"
                                },
                                {
                                    "0": "10981",
                                    "1": "15810.0000000",
                                    "2": "15810.0000000"
                                },
                                {
                                    "0": "10982",
                                    "1": "1014.0000000",
                                    "2": "507.0000000"
                                },
                                {
                                    "0": "10983",
                                    "1": "720.9000000",
                                    "2": "360.4500000"
                                },
                                {
                                    "0": "10984",
                                    "1": "1809.7500000",
                                    "2": "603.2500000"
                                },
                                {
                                    "0": "10985",
                                    "1": "2023.3800000",
                                    "2": "674.4600000"
                                },
                                {
                                    "0": "10986",
                                    "1": "2220.0000000",
                                    "2": "555.0000000"
                                },
                                {
                                    "0": "10987",
                                    "1": "2772.0000000",
                                    "2": "924.0000000"
                                },
                                {
                                    "0": "10988",
                                    "1": "3574.8000000",
                                    "2": "1787.4000000"
                                },
                                {
                                    "0": "10989",
                                    "1": "1353.6000000",
                                    "2": "451.2000000"
                                },
                                {
                                    "0": "10990",
                                    "1": "4288.8500000",
                                    "2": "1072.2125000"
                                },
                                {
                                    "0": "10991",
                                    "1": "2296.0000000",
                                    "2": "765.3333333"
                                },
                                {
                                    "0": "10992",
                                    "1": "69.6000000",
                                    "2": "69.6000000"
                                },
                                {
                                    "0": "10993",
                                    "1": "4895.4375000",
                                    "2": "2447.7187500"
                                },
                                {
                                    "0": "10994",
                                    "1": "940.5000000",
                                    "2": "940.5000000"
                                },
                                {
                                    "0": "10995",
                                    "1": "1196.0000000",
                                    "2": "598.0000000"
                                },
                                {
                                    "0": "10996",
                                    "1": "560.0000000",
                                    "2": "560.0000000"
                                },
                                {
                                    "0": "10997",
                                    "1": "1885.0000000",
                                    "2": "628.3333333"
                                },
                                {
                                    "0": "10998",
                                    "1": "686.0000000",
                                    "2": "171.5000000"
                                },
                                {
                                    "0": "10999",
                                    "1": "1197.9500000",
                                    "2": "399.3166666"
                                },
                                {
                                    "0": "11000",
                                    "1": "903.7500000",
                                    "2": "301.2500000"
                                },
                                {
                                    "0": "11001",
                                    "1": "2769.0000000",
                                    "2": "692.2500000"
                                },
                                {
                                    "0": "11002",
                                    "1": "1811.1000000",
                                    "2": "452.7750000"
                                },
                                {
                                    "0": "11003",
                                    "1": "326.0000000",
                                    "2": "108.6666666"
                                },
                                {
                                    "0": "11004",
                                    "1": "295.3800000",
                                    "2": "147.6900000"
                                },
                                {
                                    "0": "11005",
                                    "1": "586.0000000",
                                    "2": "293.0000000"
                                },
                                {
                                    "0": "11006",
                                    "1": "329.6850000",
                                    "2": "164.8425000"
                                },
                                {
                                    "0": "11007",
                                    "1": "2633.9000000",
                                    "2": "877.9666666"
                                },
                                {
                                    "0": "11008",
                                    "1": "4680.9000000",
                                    "2": "1560.3000000"
                                },
                                {
                                    "0": "11009",
                                    "1": "616.5000000",
                                    "2": "205.5000000"
                                },
                                {
                                    "0": "11010",
                                    "1": "645.0000000",
                                    "2": "322.5000000"
                                },
                                {
                                    "0": "11011",
                                    "1": "933.5000000",
                                    "2": "466.7500000"
                                },
                                {
                                    "0": "11012",
                                    "1": "2825.3000000",
                                    "2": "941.7666666"
                                },
                                {
                                    "0": "11013",
                                    "1": "361.0000000",
                                    "2": "90.2500000"
                                },
                                {
                                    "0": "11014",
                                    "1": "243.1800000",
                                    "2": "243.1800000"
                                },
                                {
                                    "0": "11015",
                                    "1": "622.3500000",
                                    "2": "311.1750000"
                                },
                                {
                                    "0": "11016",
                                    "1": "491.5000000",
                                    "2": "245.7500000"
                                },
                                {
                                    "0": "11017",
                                    "1": "6750.0000000",
                                    "2": "2250.0000000"
                                },
                                {
                                    "0": "11018",
                                    "1": "1575.0000000",
                                    "2": "525.0000000"
                                },
                                {
                                    "0": "11019",
                                    "1": "76.0000000",
                                    "2": "38.0000000"
                                },
                                {
                                    "0": "11020",
                                    "1": "632.4000000",
                                    "2": "632.4000000"
                                },
                                {
                                    "0": "11021",
                                    "1": "6306.2400000",
                                    "2": "1261.2480000"
                                },
                                {
                                    "0": "11022",
                                    "1": "1402.0000000",
                                    "2": "701.0000000"
                                },
                                {
                                    "0": "11023",
                                    "1": "1500.0000000",
                                    "2": "750.0000000"
                                },
                                {
                                    "0": "11024",
                                    "1": "1966.8100000",
                                    "2": "491.7025000"
                                },
                                {
                                    "0": "11025",
                                    "1": "270.0000000",
                                    "2": "135.0000000"
                                },
                                {
                                    "0": "11026",
                                    "1": "1030.0000000",
                                    "2": "515.0000000"
                                },
                                {
                                    "0": "11027",
                                    "1": "877.7250000",
                                    "2": "438.8625000"
                                },
                                {
                                    "0": "11028",
                                    "1": "2160.0000000",
                                    "2": "1080.0000000"
                                },
                                {
                                    "0": "11029",
                                    "1": "1286.8000000",
                                    "2": "643.4000000"
                                },
                                {
                                    "0": "11030",
                                    "1": "12615.0500000",
                                    "2": "3153.7625000"
                                },
                                {
                                    "0": "11031",
                                    "1": "2393.5000000",
                                    "2": "478.7000000"
                                },
                                {
                                    "0": "11032",
                                    "1": "8902.5000000",
                                    "2": "2967.5000000"
                                },
                                {
                                    "0": "11033",
                                    "1": "3232.8000000",
                                    "2": "1616.4000000"
                                },
                                {
                                    "0": "11034",
                                    "1": "539.4000000",
                                    "2": "179.8000000"
                                },
                                {
                                    "0": "11035",
                                    "1": "1754.5000000",
                                    "2": "438.6250000"
                                },
                                {
                                    "0": "11036",
                                    "1": "1692.0000000",
                                    "2": "846.0000000"
                                },
                                {
                                    "0": "11037",
                                    "1": "60.0000000",
                                    "2": "60.0000000"
                                },
                                {
                                    "0": "11038",
                                    "1": "732.6000000",
                                    "2": "244.2000000"
                                },
                                {
                                    "0": "11039",
                                    "1": "3090.0000000",
                                    "2": "772.5000000"
                                },
                                {
                                    "0": "11040",
                                    "1": "200.0000000",
                                    "2": "200.0000000"
                                },
                                {
                                    "0": "11041",
                                    "1": "1773.0000000",
                                    "2": "886.5000000"
                                },
                                {
                                    "0": "11042",
                                    "1": "405.7500000",
                                    "2": "202.8750000"
                                },
                                {
                                    "0": "11043",
                                    "1": "210.0000000",
                                    "2": "210.0000000"
                                },
                                {
                                    "0": "11044",
                                    "1": "591.6000000",
                                    "2": "591.6000000"
                                },
                                {
                                    "0": "11045",
                                    "1": "1309.5000000",
                                    "2": "654.7500000"
                                },
                                {
                                    "0": "11046",
                                    "1": "1485.8000000",
                                    "2": "495.2666666"
                                },
                                {
                                    "0": "11047",
                                    "1": "817.8750000",
                                    "2": "408.9375000"
                                },
                                {
                                    "0": "11048",
                                    "1": "525.0000000",
                                    "2": "525.0000000"
                                },
                                {
                                    "0": "11049",
                                    "1": "273.6000000",
                                    "2": "136.8000000"
                                },
                                {
                                    "0": "11050",
                                    "1": "810.0000000",
                                    "2": "810.0000000"
                                },
                                {
                                    "0": "11051",
                                    "1": "36.0000000",
                                    "2": "36.0000000"
                                },
                                {
                                    "0": "11052",
                                    "1": "1332.0000000",
                                    "2": "666.0000000"
                                },
                                {
                                    "0": "11053",
                                    "1": "3055.0000000",
                                    "2": "1018.3333333"
                                },
                                {
                                    "0": "11054",
                                    "1": "305.0000000",
                                    "2": "152.5000000"
                                },
                                {
                                    "0": "11055",
                                    "1": "1727.5000000",
                                    "2": "431.8750000"
                                },
                                {
                                    "0": "11056",
                                    "1": "3740.0000000",
                                    "2": "1246.6666666"
                                },
                                {
                                    "0": "11057",
                                    "1": "45.0000000",
                                    "2": "45.0000000"
                                },
                                {
                                    "0": "11058",
                                    "1": "858.0000000",
                                    "2": "286.0000000"
                                },
                                {
                                    "0": "11059",
                                    "1": "1838.0000000",
                                    "2": "612.6666666"
                                },
                                {
                                    "0": "11060",
                                    "1": "266.0000000",
                                    "2": "133.0000000"
                                },
                                {
                                    "0": "11061",
                                    "1": "510.0000000",
                                    "2": "510.0000000"
                                },
                                {
                                    "0": "11062",
                                    "1": "406.4000000",
                                    "2": "203.2000000"
                                },
                                {
                                    "0": "11063",
                                    "1": "1342.9500000",
                                    "2": "447.6500000"
                                },
                                {
                                    "0": "11064",
                                    "1": "4330.4000000",
                                    "2": "866.0800000"
                                },
                                {
                                    "0": "11065",
                                    "1": "189.4200000",
                                    "2": "94.7100000"
                                },
                                {
                                    "0": "11066",
                                    "1": "928.7500000",
                                    "2": "309.5833333"
                                },
                                {
                                    "0": "11067",
                                    "1": "86.8500000",
                                    "2": "86.8500000"
                                },
                                {
                                    "0": "11068",
                                    "1": "2027.0800000",
                                    "2": "675.6933333"
                                },
                                {
                                    "0": "11069",
                                    "1": "360.0000000",
                                    "2": "360.0000000"
                                },
                                {
                                    "0": "11070",
                                    "1": "1629.9750000",
                                    "2": "407.4937500"
                                },
                                {
                                    "0": "11071",
                                    "1": "484.5000000",
                                    "2": "242.2500000"
                                },
                                {
                                    "0": "11072",
                                    "1": "5218.0000000",
                                    "2": "1304.5000000"
                                },
                                {
                                    "0": "11073",
                                    "1": "300.0000000",
                                    "2": "150.0000000"
                                },
                                {
                                    "0": "11074",
                                    "1": "232.0850000",
                                    "2": "232.0850000"
                                },
                                {
                                    "0": "11075",
                                    "1": "498.1000000",
                                    "2": "166.0333333"
                                },
                                {
                                    "0": "11076",
                                    "1": "792.7500000",
                                    "2": "264.2500000"
                                },
                                {
                                    "0": "11077",
                                    "1": "1255.7205000",
                                    "2": "50.2288200"
                                }
                            ]
                        },
                        "text/html": "<table><tr><th>orderid</th><th>TotalSalesAmount</th><th>AVGSalesAmount</th></tr><tr><td>10248</td><td>440.0000000</td><td>146.6666666</td></tr><tr><td>10249</td><td>1863.4000000</td><td>931.7000000</td></tr><tr><td>10250</td><td>1552.6000000</td><td>517.5333333</td></tr><tr><td>10251</td><td>654.0600000</td><td>218.0200000</td></tr><tr><td>10252</td><td>3597.9000000</td><td>1199.3000000</td></tr><tr><td>10253</td><td>1444.8000000</td><td>481.6000000</td></tr><tr><td>10254</td><td>556.6200000</td><td>185.5400000</td></tr><tr><td>10255</td><td>2490.5000000</td><td>622.6250000</td></tr><tr><td>10256</td><td>517.8000000</td><td>258.9000000</td></tr><tr><td>10257</td><td>1119.9000000</td><td>373.3000000</td></tr><tr><td>10258</td><td>1614.8800000</td><td>538.2933333</td></tr><tr><td>10259</td><td>100.8000000</td><td>50.4000000</td></tr><tr><td>10260</td><td>1504.6500000</td><td>376.1625000</td></tr><tr><td>10261</td><td>448.0000000</td><td>224.0000000</td></tr><tr><td>10262</td><td>584.0000000</td><td>194.6666666</td></tr><tr><td>10263</td><td>1873.8000000</td><td>468.4500000</td></tr><tr><td>10264</td><td>695.6250000</td><td>347.8125000</td></tr><tr><td>10265</td><td>1176.0000000</td><td>588.0000000</td></tr><tr><td>10266</td><td>346.5600000</td><td>346.5600000</td></tr><tr><td>10267</td><td>3536.6000000</td><td>1178.8666666</td></tr><tr><td>10268</td><td>1101.2000000</td><td>550.6000000</td></tr><tr><td>10269</td><td>642.2000000</td><td>321.1000000</td></tr><tr><td>10270</td><td>1376.0000000</td><td>688.0000000</td></tr><tr><td>10271</td><td>48.0000000</td><td>48.0000000</td></tr><tr><td>10272</td><td>1456.0000000</td><td>485.3333333</td></tr><tr><td>10273</td><td>2037.2800000</td><td>407.4560000</td></tr><tr><td>10274</td><td>538.6000000</td><td>269.3000000</td></tr><tr><td>10275</td><td>291.8400000</td><td>145.9200000</td></tr><tr><td>10276</td><td>420.0000000</td><td>210.0000000</td></tr><tr><td>10277</td><td>1200.8000000</td><td>600.4000000</td></tr><tr><td>10278</td><td>1488.8000000</td><td>372.2000000</td></tr><tr><td>10279</td><td>351.0000000</td><td>351.0000000</td></tr><tr><td>10280</td><td>613.2000000</td><td>204.4000000</td></tr><tr><td>10281</td><td>86.5000000</td><td>28.8333333</td></tr><tr><td>10282</td><td>155.4000000</td><td>77.7000000</td></tr><tr><td>10283</td><td>1414.8000000</td><td>353.7000000</td></tr><tr><td>10284</td><td>1170.3750000</td><td>292.5937500</td></tr><tr><td>10285</td><td>1743.3600000</td><td>581.1200000</td></tr><tr><td>10286</td><td>3016.0000000</td><td>1508.0000000</td></tr><tr><td>10287</td><td>819.0000000</td><td>273.0000000</td></tr><tr><td>10288</td><td>80.1000000</td><td>40.0500000</td></tr><tr><td>10289</td><td>479.4000000</td><td>239.7000000</td></tr><tr><td>10290</td><td>2169.0000000</td><td>542.2500000</td></tr><tr><td>10291</td><td>497.5200000</td><td>165.8400000</td></tr><tr><td>10292</td><td>1296.0000000</td><td>1296.0000000</td></tr><tr><td>10293</td><td>848.7000000</td><td>212.1750000</td></tr><tr><td>10294</td><td>1887.6000000</td><td>377.5200000</td></tr><tr><td>10295</td><td>121.6000000</td><td>121.6000000</td></tr><tr><td>10296</td><td>1050.6000000</td><td>350.2000000</td></tr><tr><td>10297</td><td>1420.0000000</td><td>710.0000000</td></tr><tr><td>10298</td><td>2645.0000000</td><td>661.2500000</td></tr><tr><td>10299</td><td>349.5000000</td><td>174.7500000</td></tr><tr><td>10300</td><td>608.0000000</td><td>304.0000000</td></tr><tr><td>10301</td><td>755.0000000</td><td>377.5000000</td></tr><tr><td>10302</td><td>2708.8000000</td><td>902.9333333</td></tr><tr><td>10303</td><td>1117.8000000</td><td>372.6000000</td></tr><tr><td>10304</td><td>954.4000000</td><td>318.1333333</td></tr><tr><td>10305</td><td>3741.3000000</td><td>1247.1000000</td></tr><tr><td>10306</td><td>498.5000000</td><td>166.1666666</td></tr><tr><td>10307</td><td>424.0000000</td><td>212.0000000</td></tr><tr><td>10308</td><td>88.8000000</td><td>44.4000000</td></tr><tr><td>10309</td><td>1762.0000000</td><td>352.4000000</td></tr><tr><td>10310</td><td>336.0000000</td><td>168.0000000</td></tr><tr><td>10311</td><td>268.8000000</td><td>134.4000000</td></tr><tr><td>10312</td><td>1614.8000000</td><td>403.7000000</td></tr><tr><td>10313</td><td>182.4000000</td><td>182.4000000</td></tr><tr><td>10314</td><td>2094.3000000</td><td>698.1000000</td></tr><tr><td>10315</td><td>516.8000000</td><td>258.4000000</td></tr><tr><td>10316</td><td>2835.0000000</td><td>1417.5000000</td></tr><tr><td>10317</td><td>288.0000000</td><td>288.0000000</td></tr><tr><td>10318</td><td>240.4000000</td><td>120.2000000</td></tr><tr><td>10319</td><td>1191.2000000</td><td>397.0666666</td></tr><tr><td>10320</td><td>516.0000000</td><td>516.0000000</td></tr><tr><td>10321</td><td>144.0000000</td><td>144.0000000</td></tr><tr><td>10322</td><td>112.0000000</td><td>112.0000000</td></tr><tr><td>10323</td><td>164.4000000</td><td>54.8000000</td></tr><tr><td>10324</td><td>5275.7150000</td><td>1055.1430000</td></tr><tr><td>10325</td><td>1497.0000000</td><td>299.4000000</td></tr><tr><td>10326</td><td>982.0000000</td><td>327.3333333</td></tr><tr><td>10327</td><td>1810.0000000</td><td>452.5000000</td></tr><tr><td>10328</td><td>1168.0000000</td><td>389.3333333</td></tr><tr><td>10329</td><td>4578.4300000</td><td>1144.6075000</td></tr><tr><td>10330</td><td>1649.0000000</td><td>824.5000000</td></tr><tr><td>10331</td><td>88.5000000</td><td>88.5000000</td></tr><tr><td>10332</td><td>1786.8800000</td><td>595.6266666</td></tr><tr><td>10333</td><td>877.2000000</td><td>292.4000000</td></tr><tr><td>10334</td><td>144.8000000</td><td>72.4000000</td></tr><tr><td>10335</td><td>2036.1600000</td><td>509.0400000</td></tr><tr><td>10336</td><td>285.1200000</td><td>285.1200000</td></tr><tr><td>10337</td><td>2467.0000000</td><td>493.4000000</td></tr><tr><td>10338</td><td>934.5000000</td><td>467.2500000</td></tr><tr><td>10339</td><td>3354.0000000</td><td>1118.0000000</td></tr><tr><td>10340</td><td>2436.1800000</td><td>812.0600000</td></tr><tr><td>10341</td><td>352.6000000</td><td>176.3000000</td></tr><tr><td>10342</td><td>1840.6400000</td><td>460.1600000</td></tr><tr><td>10343</td><td>1584.0000000</td><td>528.0000000</td></tr><tr><td>10344</td><td>2296.0000000</td><td>1148.0000000</td></tr><tr><td>10345</td><td>2924.8000000</td><td>974.9333333</td></tr><tr><td>10346</td><td>1618.8800000</td><td>809.4400000</td></tr><tr><td>10347</td><td>814.4200000</td><td>203.6050000</td></tr><tr><td>10348</td><td>363.6000000</td><td>181.8000000</td></tr><tr><td>10349</td><td>141.6000000</td><td>141.6000000</td></tr><tr><td>10350</td><td>642.0600000</td><td>321.0300000</td></tr><tr><td>10351</td><td>5398.7250000</td><td>1349.6812500</td></tr><tr><td>10352</td><td>136.3000000</td><td>68.1500000</td></tr><tr><td>10353</td><td>8593.2800000</td><td>4296.6400000</td></tr><tr><td>10354</td><td>568.8000000</td><td>284.4000000</td></tr><tr><td>10355</td><td>480.0000000</td><td>240.0000000</td></tr><tr><td>10356</td><td>1106.4000000</td><td>368.8000000</td></tr><tr><td>10357</td><td>1167.6800000</td><td>389.2266666</td></tr><tr><td>10358</td><td>429.4000000</td><td>143.1333333</td></tr><tr><td>10359</td><td>3471.6800000</td><td>1157.2266666</td></tr><tr><td>10360</td><td>7390.2000000</td><td>1478.0400000</td></tr><tr><td>10361</td><td>2046.2400000</td><td>1023.1200000</td></tr><tr><td>10362</td><td>1549.6000000</td><td>516.5333333</td></tr><tr><td>10363</td><td>447.2000000</td><td>149.0666666</td></tr><tr><td>10364</td><td>950.0000000</td><td>475.0000000</td></tr><tr><td>10365</td><td>403.2000000</td><td>403.2000000</td></tr><tr><td>10366</td><td>136.0000000</td><td>68.0000000</td></tr><tr><td>10367</td><td>834.2000000</td><td>208.5500000</td></tr><tr><td>10368</td><td>1689.7800000</td><td>422.4450000</td></tr><tr><td>10369</td><td>2390.4000000</td><td>1195.2000000</td></tr><tr><td>10370</td><td>1117.6000000</td><td>372.5333333</td></tr><tr><td>10371</td><td>72.9600000</td><td>72.9600000</td></tr><tr><td>10372</td><td>9210.9000000</td><td>2302.7250000</td></tr><tr><td>10373</td><td>1366.4000000</td><td>683.2000000</td></tr><tr><td>10374</td><td>459.0000000</td><td>229.5000000</td></tr><tr><td>10375</td><td>338.0000000</td><td>169.0000000</td></tr><tr><td>10376</td><td>399.0000000</td><td>399.0000000</td></tr><tr><td>10377</td><td>863.6000000</td><td>431.8000000</td></tr><tr><td>10378</td><td>103.2000000</td><td>103.2000000</td></tr><tr><td>10379</td><td>863.2800000</td><td>287.7600000</td></tr><tr><td>10380</td><td>1313.8200000</td><td>328.4550000</td></tr><tr><td>10381</td><td>112.0000000</td><td>112.0000000</td></tr><tr><td>10382</td><td>2900.0000000</td><td>580.0000000</td></tr><tr><td>10383</td><td>899.0000000</td><td>299.6666666</td></tr><tr><td>10384</td><td>2222.4000000</td><td>1111.2000000</td></tr><tr><td>10385</td><td>691.2000000</td><td>230.4000000</td></tr><tr><td>10386</td><td>166.0000000</td><td>83.0000000</td></tr><tr><td>10387</td><td>1058.4000000</td><td>264.6000000</td></tr><tr><td>10388</td><td>1228.8000000</td><td>409.6000000</td></tr><tr><td>10389</td><td>1832.8000000</td><td>458.2000000</td></tr><tr><td>10390</td><td>2090.8800000</td><td>522.7200000</td></tr><tr><td>10391</td><td>86.4000000</td><td>86.4000000</td></tr><tr><td>10392</td><td>1440.0000000</td><td>1440.0000000</td></tr><tr><td>10393</td><td>2556.9500000</td><td>511.3900000</td></tr><tr><td>10394</td><td>442.0000000</td><td>221.0000000</td></tr><tr><td>10395</td><td>2122.9200000</td><td>707.6400000</td></tr><tr><td>10396</td><td>1903.8000000</td><td>634.6000000</td></tr><tr><td>10397</td><td>716.7200000</td><td>358.3600000</td></tr><tr><td>10398</td><td>2505.6000000</td><td>1252.8000000</td></tr><tr><td>10399</td><td>1765.6000000</td><td>441.4000000</td></tr><tr><td>10400</td><td>3063.0000000</td><td>1021.0000000</td></tr><tr><td>10401</td><td>3868.6000000</td><td>967.1500000</td></tr><tr><td>10402</td><td>2713.5000000</td><td>1356.7500000</td></tr><tr><td>10403</td><td>855.0150000</td><td>427.5075000</td></tr><tr><td>10404</td><td>1591.2500000</td><td>530.4166666</td></tr><tr><td>10405</td><td>400.0000000</td><td>400.0000000</td></tr><tr><td>10406</td><td>1830.7800000</td><td>366.1560000</td></tr><tr><td>10407</td><td>1194.0000000</td><td>398.0000000</td></tr><tr><td>10408</td><td>1622.4000000</td><td>540.8000000</td></tr><tr><td>10409</td><td>319.2000000</td><td>159.6000000</td></tr><tr><td>10410</td><td>802.0000000</td><td>401.0000000</td></tr><tr><td>10411</td><td>966.8000000</td><td>322.2666666</td></tr><tr><td>10412</td><td>334.8000000</td><td>334.8000000</td></tr><tr><td>10413</td><td>2123.2000000</td><td>707.7333333</td></tr><tr><td>10414</td><td>224.8300000</td><td>112.4150000</td></tr><tr><td>10415</td><td>102.4000000</td><td>51.2000000</td></tr><tr><td>10416</td><td>720.0000000</td><td>240.0000000</td></tr><tr><td>10417</td><td>11188.4000000</td><td>2797.1000000</td></tr><tr><td>10418</td><td>1814.8000000</td><td>453.7000000</td></tr><tr><td>10419</td><td>2097.6000000</td><td>1048.8000000</td></tr><tr><td>10420</td><td>1707.8400000</td><td>426.9600000</td></tr><tr><td>10421</td><td>1194.2700000</td><td>298.5675000</td></tr><tr><td>10422</td><td>49.8000000</td><td>49.8000000</td></tr><tr><td>10423</td><td>1020.0000000</td><td>510.0000000</td></tr><tr><td>10424</td><td>9194.5600000</td><td>3064.8533333</td></tr><tr><td>10425</td><td>360.0000000</td><td>180.0000000</td></tr><tr><td>10426</td><td>338.2000000</td><td>169.1000000</td></tr><tr><td>10427</td><td>651.0000000</td><td>651.0000000</td></tr><tr><td>10428</td><td>192.0000000</td><td>192.0000000</td></tr><tr><td>10429</td><td>1441.3750000</td><td>720.6875000</td></tr><tr><td>10430</td><td>4899.2000000</td><td>1224.8000000</td></tr><tr><td>10431</td><td>1892.2500000</td><td>630.7500000</td></tr><tr><td>10432</td><td>485.0000000</td><td>242.5000000</td></tr><tr><td>10433</td><td>851.2000000</td><td>851.2000000</td></tr><tr><td>10434</td><td>321.1200000</td><td>160.5600000</td></tr><tr><td>10435</td><td>631.6000000</td><td>210.5333333</td></tr><tr><td>10436</td><td>1994.5200000</td><td>498.6300000</td></tr><tr><td>10437</td><td>393.0000000</td><td>393.0000000</td></tr><tr><td>10438</td><td>454.0000000</td><td>151.3333333</td></tr><tr><td>10439</td><td>1078.0000000</td><td>269.5000000</td></tr><tr><td>10440</td><td>4924.1350000</td><td>1231.0337500</td></tr><tr><td>10441</td><td>1755.0000000</td><td>1755.0000000</td></tr><tr><td>10442</td><td>1792.0000000</td><td>597.3333333</td></tr><tr><td>10443</td><td>517.4400000</td><td>258.7200000</td></tr><tr><td>10444</td><td>1031.7000000</td><td>257.9250000</td></tr><tr><td>10445</td><td>174.9000000</td><td>87.4500000</td></tr><tr><td>10446</td><td>246.2400000</td><td>61.5600000</td></tr><tr><td>10447</td><td>914.4000000</td><td>304.8000000</td></tr><tr><td>10448</td><td>443.4000000</td><td>221.7000000</td></tr><tr><td>10449</td><td>1838.2000000</td><td>612.7333333</td></tr><tr><td>10450</td><td>425.1200000</td><td>212.5600000</td></tr><tr><td>10451</td><td>3849.6600000</td><td>962.4150000</td></tr><tr><td>10452</td><td>2018.5000000</td><td>1009.2500000</td></tr><tr><td>10453</td><td>407.7000000</td><td>203.8500000</td></tr><tr><td>10454</td><td>331.2000000</td><td>110.4000000</td></tr><tr><td>10455</td><td>2684.0000000</td><td>671.0000000</td></tr><tr><td>10456</td><td>557.6000000</td><td>278.8000000</td></tr><tr><td>10457</td><td>1584.0000000</td><td>1584.0000000</td></tr><tr><td>10458</td><td>3891.0000000</td><td>778.2000000</td></tr><tr><td>10459</td><td>1659.2000000</td><td>553.0666666</td></tr><tr><td>10460</td><td>176.1000000</td><td>88.0500000</td></tr><tr><td>10461</td><td>1538.7000000</td><td>512.9000000</td></tr><tr><td>10462</td><td>156.0000000</td><td>78.0000000</td></tr><tr><td>10463</td><td>713.3000000</td><td>356.6500000</td></tr><tr><td>10464</td><td>1609.2800000</td><td>402.3200000</td></tr><tr><td>10465</td><td>2518.0000000</td><td>503.6000000</td></tr><tr><td>10466</td><td>216.0000000</td><td>108.0000000</td></tr><tr><td>10467</td><td>235.2000000</td><td>117.6000000</td></tr><tr><td>10468</td><td>717.6000000</td><td>358.8000000</td></tr><tr><td>10469</td><td>956.6750000</td><td>318.8916666</td></tr><tr><td>10470</td><td>1820.8000000</td><td>606.9333333</td></tr><tr><td>10471</td><td>1328.0000000</td><td>664.0000000</td></tr><tr><td>10472</td><td>1036.8000000</td><td>518.4000000</td></tr><tr><td>10473</td><td>230.4000000</td><td>115.2000000</td></tr><tr><td>10474</td><td>1249.1000000</td><td>312.2750000</td></tr><tr><td>10475</td><td>1505.1800000</td><td>501.7266666</td></tr><tr><td>10476</td><td>180.4800000</td><td>90.2400000</td></tr><tr><td>10477</td><td>558.0000000</td><td>186.0000000</td></tr><tr><td>10478</td><td>471.2000000</td><td>471.2000000</td></tr><tr><td>10479</td><td>10495.6000000</td><td>2623.9000000</td></tr><tr><td>10480</td><td>756.0000000</td><td>378.0000000</td></tr><tr><td>10481</td><td>1472.0000000</td><td>736.0000000</td></tr><tr><td>10482</td><td>147.0000000</td><td>147.0000000</td></tr><tr><td>10483</td><td>668.8000000</td><td>334.4000000</td></tr><tr><td>10484</td><td>386.2000000</td><td>128.7333333</td></tr><tr><td>10485</td><td>1584.0000000</td><td>396.0000000</td></tr><tr><td>10486</td><td>1272.0000000</td><td>424.0000000</td></tr><tr><td>10487</td><td>889.7000000</td><td>296.5666666</td></tr><tr><td>10488</td><td>1512.0000000</td><td>756.0000000</td></tr><tr><td>10489</td><td>439.2000000</td><td>219.6000000</td></tr><tr><td>10490</td><td>3163.2000000</td><td>1054.4000000</td></tr><tr><td>10491</td><td>259.5050000</td><td>129.7525000</td></tr><tr><td>10492</td><td>851.2000000</td><td>425.6000000</td></tr><tr><td>10493</td><td>608.4000000</td><td>202.8000000</td></tr><tr><td>10494</td><td>912.0000000</td><td>912.0000000</td></tr><tr><td>10495</td><td>278.0000000</td><td>92.6666666</td></tr><tr><td>10496</td><td>190.0000000</td><td>190.0000000</td></tr><tr><td>10497</td><td>1380.6000000</td><td>460.2000000</td></tr><tr><td>10498</td><td>575.0000000</td><td>191.6666666</td></tr><tr><td>10499</td><td>1412.0000000</td><td>706.0000000</td></tr><tr><td>10500</td><td>523.2600000</td><td>261.6300000</td></tr><tr><td>10501</td><td>149.0000000</td><td>149.0000000</td></tr><tr><td>10502</td><td>816.3000000</td><td>272.1000000</td></tr><tr><td>10503</td><td>2048.5000000</td><td>1024.2500000</td></tr><tr><td>10504</td><td>1388.5000000</td><td>347.1250000</td></tr><tr><td>10505</td><td>147.9000000</td><td>147.9000000</td></tr><tr><td>10506</td><td>415.8000000</td><td>207.9000000</td></tr><tr><td>10507</td><td>749.0625000</td><td>374.5312500</td></tr><tr><td>10508</td><td>240.0000000</td><td>120.0000000</td></tr><tr><td>10509</td><td>136.8000000</td><td>136.8000000</td></tr><tr><td>10510</td><td>4707.5400000</td><td>2353.7700000</td></tr><tr><td>10511</td><td>2550.0000000</td><td>850.0000000</td></tr><tr><td>10512</td><td>525.3000000</td><td>131.3250000</td></tr><tr><td>10513</td><td>1942.0000000</td><td>647.3333333</td></tr><tr><td>10514</td><td>8623.4500000</td><td>1724.6900000</td></tr><tr><td>10515</td><td>9921.3000000</td><td>1984.2600000</td></tr><tr><td>10516</td><td>2381.0500000</td><td>793.6833333</td></tr><tr><td>10517</td><td>352.0000000</td><td>117.3333333</td></tr><tr><td>10518</td><td>4150.0500000</td><td>1383.3500000</td></tr><tr><td>10519</td><td>2314.2000000</td><td>771.4000000</td></tr><tr><td>10520</td><td>200.0000000</td><td>100.0000000</td></tr><tr><td>10521</td><td>225.5000000</td><td>75.1666666</td></tr><tr><td>10522</td><td>2318.2400000</td><td>579.5600000</td></tr><tr><td>10523</td><td>2444.3100000</td><td>611.0775000</td></tr><tr><td>10524</td><td>3192.6500000</td><td>798.1625000</td></tr><tr><td>10525</td><td>818.4000000</td><td>409.2000000</td></tr><tr><td>10526</td><td>1151.4000000</td><td>383.8000000</td></tr><tr><td>10527</td><td>1503.0000000</td><td>751.5000000</td></tr><tr><td>10528</td><td>392.2000000</td><td>130.7333333</td></tr><tr><td>10529</td><td>946.0000000</td><td>315.3333333</td></tr><tr><td>10530</td><td>4180.0000000</td><td>1045.0000000</td></tr><tr><td>10531</td><td>110.0000000</td><td>110.0000000</td></tr><tr><td>10532</td><td>796.3500000</td><td>398.1750000</td></tr><tr><td>10533</td><td>2222.2000000</td><td>740.7333333</td></tr><tr><td>10534</td><td>465.7000000</td><td>155.2333333</td></tr><tr><td>10535</td><td>1940.8500000</td><td>485.2125000</td></tr><tr><td>10536</td><td>1645.0000000</td><td>411.2500000</td></tr><tr><td>10537</td><td>1823.8000000</td><td>364.7600000</td></tr><tr><td>10538</td><td>139.8000000</td><td>69.9000000</td></tr><tr><td>10539</td><td>355.5000000</td><td>88.8750000</td></tr><tr><td>10540</td><td>10191.7000000</td><td>2547.9250000</td></tr><tr><td>10541</td><td>1946.5200000</td><td>486.6300000</td></tr><tr><td>10542</td><td>469.1100000</td><td>234.5550000</td></tr><tr><td>10543</td><td>1504.5000000</td><td>752.2500000</td></tr><tr><td>10544</td><td>417.2000000</td><td>208.6000000</td></tr><tr><td>10545</td><td>210.0000000</td><td>210.0000000</td></tr><tr><td>10546</td><td>2812.0000000</td><td>937.3333333</td></tr><tr><td>10547</td><td>1792.8000000</td><td>896.4000000</td></tr><tr><td>10548</td><td>240.1000000</td><td>120.0500000</td></tr><tr><td>10549</td><td>3554.2750000</td><td>1184.7583333</td></tr><tr><td>10550</td><td>683.3000000</td><td>170.8250000</td></tr><tr><td>10551</td><td>1677.3000000</td><td>559.1000000</td></tr><tr><td>10552</td><td>880.5000000</td><td>440.2500000</td></tr><tr><td>10553</td><td>1546.3000000</td><td>309.2600000</td></tr><tr><td>10554</td><td>1728.5250000</td><td>432.1312500</td></tr><tr><td>10555</td><td>2944.4000000</td><td>588.8800000</td></tr><tr><td>10556</td><td>835.2000000</td><td>835.2000000</td></tr><tr><td>10557</td><td>1152.5000000</td><td>576.2500000</td></tr><tr><td>10558</td><td>2142.9000000</td><td>428.5800000</td></tr><tr><td>10559</td><td>520.4100000</td><td>260.2050000</td></tr><tr><td>10560</td><td>1072.4250000</td><td>536.2125000</td></tr><tr><td>10561</td><td>2844.5000000</td><td>1422.2500000</td></tr><tr><td>10562</td><td>488.7000000</td><td>244.3500000</td></tr><tr><td>10563</td><td>965.0000000</td><td>482.5000000</td></tr><tr><td>10564</td><td>1234.0500000</td><td>411.3500000</td></tr><tr><td>10565</td><td>639.9000000</td><td>319.9500000</td></tr><tr><td>10566</td><td>1761.0000000</td><td>587.0000000</td></tr><tr><td>10567</td><td>2519.0000000</td><td>839.6666666</td></tr><tr><td>10568</td><td>155.0000000</td><td>155.0000000</td></tr><tr><td>10569</td><td>890.0000000</td><td>445.0000000</td></tr><tr><td>10570</td><td>2465.2500000</td><td>1232.6250000</td></tr><tr><td>10571</td><td>550.5875000</td><td>275.2937500</td></tr><tr><td>10572</td><td>1501.0850000</td><td>375.2712500</td></tr><tr><td>10573</td><td>2082.0000000</td><td>694.0000000</td></tr><tr><td>10574</td><td>764.3000000</td><td>191.0750000</td></tr><tr><td>10575</td><td>2147.4000000</td><td>536.8500000</td></tr><tr><td>10576</td><td>838.4500000</td><td>279.4833333</td></tr><tr><td>10577</td><td>569.0000000</td><td>189.6666666</td></tr><tr><td>10578</td><td>477.0000000</td><td>238.5000000</td></tr><tr><td>10579</td><td>317.7500000</td><td>158.8750000</td></tr><tr><td>10580</td><td>1013.7450000</td><td>337.9150000</td></tr><tr><td>10581</td><td>310.0000000</td><td>310.0000000</td></tr><tr><td>10582</td><td>330.0000000</td><td>165.0000000</td></tr><tr><td>10583</td><td>2237.5000000</td><td>745.8333333</td></tr><tr><td>10584</td><td>593.7500000</td><td>593.7500000</td></tr><tr><td>10585</td><td>142.5000000</td><td>142.5000000</td></tr><tr><td>10586</td><td>23.8000000</td><td>23.8000000</td></tr><tr><td>10587</td><td>807.3800000</td><td>269.1266666</td></tr><tr><td>10588</td><td>3120.0000000</td><td>1560.0000000</td></tr><tr><td>10589</td><td>72.0000000</td><td>72.0000000</td></tr><tr><td>10590</td><td>1101.0000000</td><td>550.5000000</td></tr><tr><td>10591</td><td>812.5000000</td><td>270.8333333</td></tr><tr><td>10592</td><td>516.4675000</td><td>258.2337500</td></tr><tr><td>10593</td><td>1994.4000000</td><td>664.8000000</td></tr><tr><td>10594</td><td>565.5000000</td><td>282.7500000</td></tr><tr><td>10595</td><td>4725.0000000</td><td>1575.0000000</td></tr><tr><td>10596</td><td>1180.8800000</td><td>393.6266666</td></tr><tr><td>10597</td><td>718.0800000</td><td>239.3600000</td></tr><tr><td>10598</td><td>2388.5000000</td><td>1194.2500000</td></tr><tr><td>10599</td><td>493.0000000</td><td>493.0000000</td></tr><tr><td>10600</td><td>479.8000000</td><td>239.9000000</td></tr><tr><td>10601</td><td>2285.0000000</td><td>1142.5000000</td></tr><tr><td>10602</td><td>48.7500000</td><td>48.7500000</td></tr><tr><td>10603</td><td>1483.0000000</td><td>741.5000000</td></tr><tr><td>10604</td><td>230.8500000</td><td>115.4250000</td></tr><tr><td>10605</td><td>4109.7000000</td><td>1027.4250000</td></tr><tr><td>10606</td><td>1130.4000000</td><td>376.8000000</td></tr><tr><td>10607</td><td>6475.4000000</td><td>1295.0800000</td></tr><tr><td>10608</td><td>1064.0000000</td><td>1064.0000000</td></tr><tr><td>10609</td><td>424.0000000</td><td>141.3333333</td></tr><tr><td>10610</td><td>299.2500000</td><td>299.2500000</td></tr><tr><td>10611</td><td>808.0000000</td><td>269.3333333</td></tr><tr><td>10612</td><td>6375.0000000</td><td>1275.0000000</td></tr><tr><td>10613</td><td>353.2000000</td><td>176.6000000</td></tr><tr><td>10614</td><td>464.0000000</td><td>154.6666666</td></tr><tr><td>10615</td><td>120.0000000</td><td>120.0000000</td></tr><tr><td>10616</td><td>4807.0000000</td><td>1201.7500000</td></tr><tr><td>10617</td><td>1402.5000000</td><td>1402.5000000</td></tr><tr><td>10618</td><td>2697.5000000</td><td>899.1666666</td></tr><tr><td>10619</td><td>1260.0000000</td><td>630.0000000</td></tr><tr><td>10620</td><td>57.5000000</td><td>28.7500000</td></tr><tr><td>10621</td><td>758.5000000</td><td>189.6250000</td></tr><tr><td>10622</td><td>560.0000000</td><td>280.0000000</td></tr><tr><td>10623</td><td>1336.9500000</td><td>267.3900000</td></tr><tr><td>10624</td><td>1393.2400000</td><td>464.4133333</td></tr><tr><td>10625</td><td>479.7500000</td><td>159.9166666</td></tr><tr><td>10626</td><td>1503.6000000</td><td>501.2000000</td></tr><tr><td>10627</td><td>1185.7500000</td><td>592.8750000</td></tr><tr><td>10628</td><td>450.0000000</td><td>450.0000000</td></tr><tr><td>10629</td><td>2775.0500000</td><td>1387.5250000</td></tr><tr><td>10630</td><td>903.6000000</td><td>451.8000000</td></tr><tr><td>10631</td><td>55.8000000</td><td>55.8000000</td></tr><tr><td>10632</td><td>589.0000000</td><td>294.5000000</td></tr><tr><td>10633</td><td>5510.5925000</td><td>1377.6481250</td></tr><tr><td>10634</td><td>4985.5000000</td><td>1246.3750000</td></tr><tr><td>10635</td><td>1326.2250000</td><td>442.0750000</td></tr><tr><td>10636</td><td>629.5000000</td><td>314.7500000</td></tr><tr><td>10637</td><td>2761.9375000</td><td>920.6458333</td></tr><tr><td>10638</td><td>2720.0500000</td><td>906.6833333</td></tr><tr><td>10639</td><td>500.0000000</td><td>500.0000000</td></tr><tr><td>10640</td><td>708.7500000</td><td>354.3750000</td></tr><tr><td>10641</td><td>2054.0000000</td><td>1027.0000000</td></tr><tr><td>10642</td><td>696.0000000</td><td>348.0000000</td></tr><tr><td>10643</td><td>814.5000000</td><td>271.5000000</td></tr><tr><td>10644</td><td>1371.8000000</td><td>457.2666666</td></tr><tr><td>10645</td><td>1535.0000000</td><td>767.5000000</td></tr><tr><td>10646</td><td>1446.0000000</td><td>361.5000000</td></tr><tr><td>10647</td><td>636.0000000</td><td>318.0000000</td></tr><tr><td>10648</td><td>372.3750000</td><td>186.1875000</td></tr><tr><td>10649</td><td>1434.0000000</td><td>717.0000000</td></tr><tr><td>10650</td><td>1779.2000000</td><td>593.0666666</td></tr><tr><td>10651</td><td>397.8000000</td><td>198.9000000</td></tr><tr><td>10652</td><td>318.8350000</td><td>159.4175000</td></tr><tr><td>10653</td><td>1083.1500000</td><td>541.5750000</td></tr><tr><td>10654</td><td>601.8300000</td><td>200.6100000</td></tr><tr><td>10655</td><td>154.4000000</td><td>154.4000000</td></tr><tr><td>10656</td><td>604.2150000</td><td>201.4050000</td></tr><tr><td>10657</td><td>4371.6000000</td><td>728.6000000</td></tr><tr><td>10658</td><td>4464.6000000</td><td>1116.1500000</td></tr><tr><td>10659</td><td>1227.0200000</td><td>409.0066666</td></tr><tr><td>10660</td><td>1701.0000000</td><td>1701.0000000</td></tr><tr><td>10661</td><td>562.6000000</td><td>281.3000000</td></tr><tr><td>10662</td><td>125.0000000</td><td>125.0000000</td></tr><tr><td>10663</td><td>1930.4000000</td><td>643.4666666</td></tr><tr><td>10664</td><td>1288.3875000</td><td>429.4625000</td></tr><tr><td>10665</td><td>1295.0000000</td><td>431.6666666</td></tr><tr><td>10666</td><td>4666.9400000</td><td>2333.4700000</td></tr><tr><td>10667</td><td>1536.8000000</td><td>768.4000000</td></tr><tr><td>10668</td><td>625.2750000</td><td>208.4250000</td></tr><tr><td>10669</td><td>570.0000000</td><td>570.0000000</td></tr><tr><td>10670</td><td>2301.7500000</td><td>460.3500000</td></tr><tr><td>10671</td><td>920.1000000</td><td>306.7000000</td></tr><tr><td>10672</td><td>3815.2500000</td><td>1907.6250000</td></tr><tr><td>10673</td><td>412.3500000</td><td>137.4500000</td></tr><tr><td>10674</td><td>45.0000000</td><td>45.0000000</td></tr><tr><td>10675</td><td>1423.0000000</td><td>474.3333333</td></tr><tr><td>10676</td><td>534.8500000</td><td>178.2833333</td></tr><tr><td>10677</td><td>813.3650000</td><td>406.6825000</td></tr><tr><td>10678</td><td>5256.5000000</td><td>1314.1250000</td></tr><tr><td>10679</td><td>660.0000000</td><td>660.0000000</td></tr><tr><td>10680</td><td>1261.8750000</td><td>420.6250000</td></tr><tr><td>10681</td><td>1287.4000000</td><td>429.1333333</td></tr><tr><td>10682</td><td>375.5000000</td><td>125.1666666</td></tr><tr><td>10683</td><td>63.0000000</td><td>63.0000000</td></tr><tr><td>10684</td><td>1768.0000000</td><td>589.3333333</td></tr><tr><td>10685</td><td>801.1000000</td><td>267.0333333</td></tr><tr><td>10686</td><td>1404.4500000</td><td>702.2250000</td></tr><tr><td>10687</td><td>4960.9000000</td><td>1653.6333333</td></tr><tr><td>10688</td><td>3160.6000000</td><td>1053.5333333</td></tr><tr><td>10689</td><td>472.5000000</td><td>472.5000000</td></tr><tr><td>10690</td><td>862.5000000</td><td>431.2500000</td></tr><tr><td>10691</td><td>10164.8000000</td><td>2032.9600000</td></tr><tr><td>10692</td><td>878.0000000</td><td>878.0000000</td></tr><tr><td>10693</td><td>2071.2000000</td><td>517.8000000</td></tr><tr><td>10694</td><td>4825.0000000</td><td>1608.3333333</td></tr><tr><td>10695</td><td>642.0000000</td><td>214.0000000</td></tr><tr><td>10696</td><td>996.0000000</td><td>498.0000000</td></tr><tr><td>10697</td><td>805.4250000</td><td>201.3562500</td></tr><tr><td>10698</td><td>3436.4435000</td><td>687.2887000</td></tr><tr><td>10699</td><td>114.0000000</td><td>114.0000000</td></tr><tr><td>10700</td><td>1638.4000000</td><td>409.6000000</td></tr><tr><td>10701</td><td>2864.5000000</td><td>954.8333333</td></tr><tr><td>10702</td><td>330.0000000</td><td>165.0000000</td></tr><tr><td>10703</td><td>2545.0000000</td><td>848.3333333</td></tr><tr><td>10704</td><td>595.5000000</td><td>198.5000000</td></tr><tr><td>10705</td><td>378.0000000</td><td>189.0000000</td></tr><tr><td>10706</td><td>1893.0000000</td><td>631.0000000</td></tr><tr><td>10707</td><td>1641.0000000</td><td>547.0000000</td></tr><tr><td>10708</td><td>180.4000000</td><td>90.2000000</td></tr><tr><td>10709</td><td>3424.0000000</td><td>1141.3333333</td></tr><tr><td>10710</td><td>93.5000000</td><td>46.7500000</td></tr><tr><td>10711</td><td>4451.7000000</td><td>1483.9000000</td></tr><tr><td>10712</td><td>1233.4800000</td><td>616.7400000</td></tr><tr><td>10713</td><td>2827.9000000</td><td>706.9750000</td></tr><tr><td>10714</td><td>2205.7500000</td><td>441.1500000</td></tr><tr><td>10715</td><td>1296.0000000</td><td>648.0000000</td></tr><tr><td>10716</td><td>706.0000000</td><td>235.3333333</td></tr><tr><td>10717</td><td>1270.7500000</td><td>423.5833333</td></tr><tr><td>10718</td><td>3463.0000000</td><td>865.7500000</td></tr><tr><td>10719</td><td>844.2525000</td><td>281.4175000</td></tr><tr><td>10720</td><td>550.0000000</td><td>275.0000000</td></tr><tr><td>10721</td><td>923.8750000</td><td>923.8750000</td></tr><tr><td>10722</td><td>1570.0000000</td><td>392.5000000</td></tr><tr><td>10723</td><td>468.4500000</td><td>468.4500000</td></tr><tr><td>10724</td><td>638.5000000</td><td>319.2500000</td></tr><tr><td>10725</td><td>287.8000000</td><td>95.9333333</td></tr><tr><td>10726</td><td>655.0000000</td><td>327.5000000</td></tr><tr><td>10727</td><td>1624.5000000</td><td>541.5000000</td></tr><tr><td>10728</td><td>1296.7500000</td><td>324.1875000</td></tr><tr><td>10729</td><td>1850.0000000</td><td>616.6666666</td></tr><tr><td>10730</td><td>484.2625000</td><td>161.4208333</td></tr><tr><td>10731</td><td>1890.5000000</td><td>945.2500000</td></tr><tr><td>10732</td><td>360.0000000</td><td>360.0000000</td></tr><tr><td>10733</td><td>1459.0000000</td><td>486.3333333</td></tr><tr><td>10734</td><td>1498.3500000</td><td>499.4500000</td></tr><tr><td>10735</td><td>536.4000000</td><td>268.2000000</td></tr><tr><td>10736</td><td>997.0000000</td><td>498.5000000</td></tr><tr><td>10737</td><td>139.8000000</td><td>69.9000000</td></tr><tr><td>10738</td><td>52.3500000</td><td>52.3500000</td></tr><tr><td>10739</td><td>240.0000000</td><td>120.0000000</td></tr><tr><td>10740</td><td>1416.0000000</td><td>354.0000000</td></tr><tr><td>10741</td><td>228.0000000</td><td>228.0000000</td></tr><tr><td>10742</td><td>3118.0000000</td><td>1039.3333333</td></tr><tr><td>10743</td><td>319.2000000</td><td>319.2000000</td></tr><tr><td>10744</td><td>736.0000000</td><td>736.0000000</td></tr><tr><td>10745</td><td>4529.8000000</td><td>1132.4500000</td></tr><tr><td>10746</td><td>2311.7000000</td><td>577.9250000</td></tr><tr><td>10747</td><td>1912.8500000</td><td>478.2125000</td></tr><tr><td>10748</td><td>2196.0000000</td><td>732.0000000</td></tr><tr><td>10749</td><td>1080.0000000</td><td>360.0000000</td></tr><tr><td>10750</td><td>1590.5625000</td><td>530.1875000</td></tr><tr><td>10751</td><td>1631.4840000</td><td>407.8710000</td></tr><tr><td>10752</td><td>252.0000000</td><td>126.0000000</td></tr><tr><td>10753</td><td>88.0000000</td><td>44.0000000</td></tr><tr><td>10754</td><td>55.2000000</td><td>55.2000000</td></tr><tr><td>10755</td><td>1948.5000000</td><td>487.1250000</td></tr><tr><td>10756</td><td>1990.0000000</td><td>497.5000000</td></tr><tr><td>10757</td><td>3082.0000000</td><td>770.5000000</td></tr><tr><td>10758</td><td>1644.6000000</td><td>548.2000000</td></tr><tr><td>10759</td><td>320.0000000</td><td>320.0000000</td></tr><tr><td>10760</td><td>2917.0000000</td><td>972.3333333</td></tr><tr><td>10761</td><td>507.0000000</td><td>253.5000000</td></tr><tr><td>10762</td><td>4337.0000000</td><td>1084.2500000</td></tr><tr><td>10763</td><td>616.0000000</td><td>205.3333333</td></tr><tr><td>10764</td><td>2286.0000000</td><td>1143.0000000</td></tr><tr><td>10765</td><td>1515.6000000</td><td>1515.6000000</td></tr><tr><td>10766</td><td>2310.0000000</td><td>770.0000000</td></tr><tr><td>10767</td><td>28.0000000</td><td>28.0000000</td></tr><tr><td>10768</td><td>1477.0000000</td><td>369.2500000</td></tr><tr><td>10769</td><td>1684.2750000</td><td>421.0687500</td></tr><tr><td>10770</td><td>236.2500000</td><td>236.2500000</td></tr><tr><td>10771</td><td>344.0000000</td><td>344.0000000</td></tr><tr><td>10772</td><td>3603.2200000</td><td>1801.6100000</td></tr><tr><td>10773</td><td>2030.4000000</td><td>676.8000000</td></tr><tr><td>10774</td><td>868.7500000</td><td>434.3750000</td></tr><tr><td>10775</td><td>228.0000000</td><td>114.0000000</td></tr><tr><td>10776</td><td>6635.2750000</td><td>1658.8187500</td></tr><tr><td>10777</td><td>224.0000000</td><td>224.0000000</td></tr><tr><td>10778</td><td>96.5000000</td><td>96.5000000</td></tr><tr><td>10779</td><td>1335.0000000</td><td>667.5000000</td></tr><tr><td>10780</td><td>720.0000000</td><td>360.0000000</td></tr><tr><td>10781</td><td>975.8800000</td><td>325.2933333</td></tr><tr><td>10782</td><td>12.5000000</td><td>12.5000000</td></tr><tr><td>10783</td><td>1442.5000000</td><td>721.2500000</td></tr><tr><td>10784</td><td>1488.0000000</td><td>496.0000000</td></tr><tr><td>10785</td><td>387.5000000</td><td>193.7500000</td></tr><tr><td>10786</td><td>1531.0800000</td><td>510.3600000</td></tr><tr><td>10787</td><td>2622.7600000</td><td>1311.3800000</td></tr><tr><td>10788</td><td>731.5000000</td><td>365.7500000</td></tr><tr><td>10789</td><td>3687.0000000</td><td>921.7500000</td></tr><tr><td>10790</td><td>722.5000000</td><td>361.2500000</td></tr><tr><td>10791</td><td>1829.7570000</td><td>914.8785000</td></tr><tr><td>10792</td><td>399.8500000</td><td>133.2833333</td></tr><tr><td>10793</td><td>191.1000000</td><td>95.5500000</td></tr><tr><td>10794</td><td>314.7600000</td><td>157.3800000</td></tr><tr><td>10795</td><td>2158.0000000</td><td>1079.0000000</td></tr><tr><td>10796</td><td>2341.3640000</td><td>585.3410000</td></tr><tr><td>10797</td><td>420.0000000</td><td>420.0000000</td></tr><tr><td>10798</td><td>446.6000000</td><td>223.3000000</td></tr><tr><td>10799</td><td>1553.5000000</td><td>517.8333333</td></tr><tr><td>10800</td><td>1468.9350000</td><td>489.6450000</td></tr><tr><td>10801</td><td>3026.8500000</td><td>1513.4250000</td></tr><tr><td>10802</td><td>2942.8125000</td><td>735.7031250</td></tr><tr><td>10803</td><td>1193.0100000</td><td>397.6700000</td></tr><tr><td>10804</td><td>2278.4000000</td><td>759.4666666</td></tr><tr><td>10805</td><td>2775.0000000</td><td>1387.5000000</td></tr><tr><td>10806</td><td>439.6000000</td><td>146.5333333</td></tr><tr><td>10807</td><td>18.4000000</td><td>18.4000000</td></tr><tr><td>10808</td><td>1411.0000000</td><td>705.5000000</td></tr><tr><td>10809</td><td>140.0000000</td><td>140.0000000</td></tr><tr><td>10810</td><td>187.0000000</td><td>62.3333333</td></tr><tr><td>10811</td><td>852.0000000</td><td>284.0000000</td></tr><tr><td>10812</td><td>1692.8000000</td><td>564.2666666</td></tr><tr><td>10813</td><td>602.4000000</td><td>301.2000000</td></tr><tr><td>10814</td><td>1788.4500000</td><td>447.1125000</td></tr><tr><td>10815</td><td>40.0000000</td><td>40.0000000</td></tr><tr><td>10816</td><td>8446.4500000</td><td>4223.2250000</td></tr><tr><td>10817</td><td>10952.8450000</td><td>2738.2112500</td></tr><tr><td>10818</td><td>833.0000000</td><td>416.5000000</td></tr><tr><td>10819</td><td>477.0000000</td><td>238.5000000</td></tr><tr><td>10820</td><td>1140.0000000</td><td>1140.0000000</td></tr><tr><td>10821</td><td>678.0000000</td><td>339.0000000</td></tr><tr><td>10822</td><td>237.9000000</td><td>118.9500000</td></tr><tr><td>10823</td><td>2826.0000000</td><td>706.5000000</td></tr><tr><td>10824</td><td>250.8000000</td><td>125.4000000</td></tr><tr><td>10825</td><td>1030.7600000</td><td>515.3800000</td></tr><tr><td>10826</td><td>730.0000000</td><td>365.0000000</td></tr><tr><td>10827</td><td>843.0000000</td><td>421.5000000</td></tr><tr><td>10828</td><td>932.0000000</td><td>466.0000000</td></tr><tr><td>10829</td><td>1764.0000000</td><td>441.0000000</td></tr><tr><td>10830</td><td>1974.0000000</td><td>493.5000000</td></tr><tr><td>10831</td><td>2684.4000000</td><td>671.1000000</td></tr><tr><td>10832</td><td>475.1100000</td><td>118.7775000</td></tr><tr><td>10833</td><td>906.9300000</td><td>302.3100000</td></tr><tr><td>10834</td><td>1432.7140000</td><td>716.3570000</td></tr><tr><td>10835</td><td>845.8000000</td><td>422.9000000</td></tr><tr><td>10836</td><td>4705.5000000</td><td>941.1000000</td></tr><tr><td>10837</td><td>1064.5000000</td><td>266.1250000</td></tr><tr><td>10838</td><td>1938.3750000</td><td>646.1250000</td></tr><tr><td>10839</td><td>827.5500000</td><td>413.7750000</td></tr><tr><td>10840</td><td>211.2000000</td><td>105.6000000</td></tr><tr><td>10841</td><td>4581.0000000</td><td>1145.2500000</td></tr><tr><td>10842</td><td>975.0000000</td><td>243.7500000</td></tr><tr><td>10843</td><td>159.0000000</td><td>159.0000000</td></tr><tr><td>10844</td><td>735.0000000</td><td>735.0000000</td></tr><tr><td>10845</td><td>3812.7000000</td><td>762.5400000</td></tr><tr><td>10846</td><td>1112.0000000</td><td>370.6666666</td></tr><tr><td>10847</td><td>4931.9200000</td><td>821.9866666</td></tr><tr><td>10848</td><td>931.5000000</td><td>465.7500000</td></tr><tr><td>10849</td><td>967.8190000</td><td>483.9095000</td></tr><tr><td>10850</td><td>629.0000000</td><td>209.6666666</td></tr><tr><td>10851</td><td>2603.0000000</td><td>650.7500000</td></tr><tr><td>10852</td><td>2984.0000000</td><td>994.6666666</td></tr><tr><td>10853</td><td>625.0000000</td><td>625.0000000</td></tr><tr><td>10854</td><td>2966.5000000</td><td>1483.2500000</td></tr><tr><td>10855</td><td>2227.8875000</td><td>556.9718750</td></tr><tr><td>10856</td><td>660.0000000</td><td>330.0000000</td></tr><tr><td>10857</td><td>2048.2125000</td><td>682.7375000</td></tr><tr><td>10858</td><td>649.0000000</td><td>216.3333333</td></tr><tr><td>10859</td><td>1078.6875000</td><td>359.5625000</td></tr><tr><td>10860</td><td>519.0000000</td><td>259.5000000</td></tr><tr><td>10861</td><td>3523.4000000</td><td>704.6800000</td></tr><tr><td>10862</td><td>581.0000000</td><td>290.5000000</td></tr><tr><td>10863</td><td>441.1500000</td><td>220.5750000</td></tr><tr><td>10864</td><td>282.0000000</td><td>141.0000000</td></tr><tr><td>10865</td><td>16387.5000000</td><td>8193.7500000</td></tr><tr><td>10866</td><td>1096.2000000</td><td>365.4000000</td></tr><tr><td>10867</td><td>98.4000000</td><td>98.4000000</td></tr><tr><td>10868</td><td>1920.6000000</td><td>640.2000000</td></tr><tr><td>10869</td><td>1630.0000000</td><td>407.5000000</td></tr><tr><td>10870</td><td>160.0000000</td><td>80.0000000</td></tr><tr><td>10871</td><td>1979.2300000</td><td>659.7433333</td></tr><tr><td>10872</td><td>2058.4600000</td><td>514.6150000</td></tr><tr><td>10873</td><td>336.8000000</td><td>168.4000000</td></tr><tr><td>10874</td><td>310.0000000</td><td>310.0000000</td></tr><tr><td>10875</td><td>709.5500000</td><td>236.5166666</td></tr><tr><td>10876</td><td>917.0000000</td><td>458.5000000</td></tr><tr><td>10877</td><td>1955.1250000</td><td>977.5625000</td></tr><tr><td>10878</td><td>1539.0000000</td><td>1539.0000000</td></tr><tr><td>10879</td><td>611.3000000</td><td>203.7666666</td></tr><tr><td>10880</td><td>1500.0000000</td><td>500.0000000</td></tr><tr><td>10881</td><td>150.0000000</td><td>150.0000000</td></tr><tr><td>10882</td><td>892.6400000</td><td>297.5466666</td></tr><tr><td>10883</td><td>36.0000000</td><td>36.0000000</td></tr><tr><td>10884</td><td>1378.0700000</td><td>459.3566666</td></tr><tr><td>10885</td><td>1209.0000000</td><td>302.2500000</td></tr><tr><td>10886</td><td>3127.5000000</td><td>1042.5000000</td></tr><tr><td>10887</td><td>70.0000000</td><td>70.0000000</td></tr><tr><td>10888</td><td>605.0000000</td><td>302.5000000</td></tr><tr><td>10889</td><td>11380.0000000</td><td>5690.0000000</td></tr><tr><td>10890</td><td>860.1000000</td><td>286.7000000</td></tr><tr><td>10891</td><td>368.9325000</td><td>368.9325000</td></tr><tr><td>10892</td><td>2090.0000000</td><td>2090.0000000</td></tr><tr><td>10893</td><td>5502.1100000</td><td>1100.4220000</td></tr><tr><td>10894</td><td>2753.1000000</td><td>917.7000000</td></tr><tr><td>10895</td><td>6379.4000000</td><td>1594.8500000</td></tr><tr><td>10896</td><td>750.5000000</td><td>375.2500000</td></tr><tr><td>10897</td><td>10835.2400000</td><td>5417.6200000</td></tr><tr><td>10898</td><td>30.0000000</td><td>30.0000000</td></tr><tr><td>10899</td><td>122.4000000</td><td>122.4000000</td></tr><tr><td>10900</td><td>33.7500000</td><td>33.7500000</td></tr><tr><td>10901</td><td>934.5000000</td><td>467.2500000</td></tr><tr><td>10902</td><td>863.4300000</td><td>431.7150000</td></tr><tr><td>10903</td><td>932.0500000</td><td>310.6833333</td></tr><tr><td>10904</td><td>1924.2500000</td><td>962.1250000</td></tr><tr><td>10905</td><td>342.0000000</td><td>342.0000000</td></tr><tr><td>10906</td><td>427.5000000</td><td>427.5000000</td></tr><tr><td>10907</td><td>108.5000000</td><td>108.5000000</td></tr><tr><td>10908</td><td>663.1000000</td><td>331.5500000</td></tr><tr><td>10909</td><td>670.0000000</td><td>223.3333333</td></tr><tr><td>10910</td><td>452.9000000</td><td>150.9666666</td></tr><tr><td>10911</td><td>858.0000000</td><td>286.0000000</td></tr><tr><td>10912</td><td>6200.5500000</td><td>3100.2750000</td></tr><tr><td>10913</td><td>768.7500000</td><td>256.2500000</td></tr><tr><td>10914</td><td>537.5000000</td><td>537.5000000</td></tr><tr><td>10915</td><td>539.5000000</td><td>179.8333333</td></tr><tr><td>10916</td><td>686.7000000</td><td>228.9000000</td></tr><tr><td>10917</td><td>365.8900000</td><td>182.9450000</td></tr><tr><td>10918</td><td>1447.5000000</td><td>723.7500000</td></tr><tr><td>10919</td><td>1122.8000000</td><td>374.2666666</td></tr><tr><td>10920</td><td>390.0000000</td><td>390.0000000</td></tr><tr><td>10921</td><td>1936.0000000</td><td>968.0000000</td></tr><tr><td>10922</td><td>742.5000000</td><td>371.2500000</td></tr><tr><td>10923</td><td>748.8000000</td><td>249.6000000</td></tr><tr><td>10924</td><td>1835.7000000</td><td>611.9000000</td></tr><tr><td>10925</td><td>475.1500000</td><td>237.5750000</td></tr><tr><td>10926</td><td>514.4000000</td><td>128.6000000</td></tr><tr><td>10927</td><td>800.0000000</td><td>266.6666666</td></tr><tr><td>10928</td><td>137.5000000</td><td>68.7500000</td></tr><tr><td>10929</td><td>1174.7500000</td><td>391.5833333</td></tr><tr><td>10930</td><td>2255.5000000</td><td>563.8750000</td></tr><tr><td>10931</td><td>799.2000000</td><td>399.6000000</td></tr><tr><td>10932</td><td>1788.6300000</td><td>447.1575000</td></tr><tr><td>10933</td><td>920.6000000</td><td>460.3000000</td></tr><tr><td>10934</td><td>500.0000000</td><td>500.0000000</td></tr><tr><td>10935</td><td>619.5000000</td><td>206.5000000</td></tr><tr><td>10936</td><td>456.0000000</td><td>456.0000000</td></tr><tr><td>10937</td><td>644.8000000</td><td>322.4000000</td></tr><tr><td>10938</td><td>2731.8750000</td><td>682.9687500</td></tr><tr><td>10939</td><td>637.5000000</td><td>318.7500000</td></tr><tr><td>10940</td><td>360.0000000</td><td>180.0000000</td></tr><tr><td>10941</td><td>4011.7500000</td><td>1002.9375000</td></tr><tr><td>10942</td><td>560.0000000</td><td>560.0000000</td></tr><tr><td>10943</td><td>711.0000000</td><td>237.0000000</td></tr><tr><td>10944</td><td>1025.3250000</td><td>341.7750000</td></tr><tr><td>10945</td><td>245.0000000</td><td>122.5000000</td></tr><tr><td>10946</td><td>1407.5000000</td><td>469.1666666</td></tr><tr><td>10947</td><td>220.0000000</td><td>220.0000000</td></tr><tr><td>10948</td><td>2362.2500000</td><td>787.4166666</td></tr><tr><td>10949</td><td>4422.0000000</td><td>1105.5000000</td></tr><tr><td>10950</td><td>110.0000000</td><td>110.0000000</td></tr><tr><td>10951</td><td>458.7550000</td><td>152.9183333</td></tr><tr><td>10952</td><td>471.2000000</td><td>235.6000000</td></tr><tr><td>10953</td><td>4441.2500000</td><td>2220.6250000</td></tr><tr><td>10954</td><td>1659.5350000</td><td>414.8837500</td></tr><tr><td>10955</td><td>74.4000000</td><td>74.4000000</td></tr><tr><td>10956</td><td>677.0000000</td><td>225.6666666</td></tr><tr><td>10957</td><td>1762.7000000</td><td>587.5666666</td></tr><tr><td>10958</td><td>781.0000000</td><td>260.3333333</td></tr><tr><td>10959</td><td>131.7500000</td><td>131.7500000</td></tr><tr><td>10960</td><td>265.3500000</td><td>132.6750000</td></tr><tr><td>10961</td><td>1119.9000000</td><td>559.9500000</td></tr><tr><td>10962</td><td>3584.0000000</td><td>716.8000000</td></tr><tr><td>10963</td><td>57.8000000</td><td>57.8000000</td></tr><tr><td>10964</td><td>2052.5000000</td><td>684.1666666</td></tr><tr><td>10965</td><td>848.0000000</td><td>848.0000000</td></tr><tr><td>10966</td><td>1098.4600000</td><td>366.1533333</td></tr><tr><td>10967</td><td>910.4000000</td><td>455.2000000</td></tr><tr><td>10968</td><td>1408.0000000</td><td>469.3333333</td></tr><tr><td>10969</td><td>108.0000000</td><td>108.0000000</td></tr><tr><td>10970</td><td>224.0000000</td><td>224.0000000</td></tr><tr><td>10971</td><td>1733.0600000</td><td>1733.0600000</td></tr><tr><td>10972</td><td>251.5000000</td><td>125.7500000</td></tr><tr><td>10973</td><td>291.5500000</td><td>97.1833333</td></tr><tr><td>10974</td><td>439.0000000</td><td>439.0000000</td></tr><tr><td>10975</td><td>717.5000000</td><td>358.7500000</td></tr><tr><td>10976</td><td>912.0000000</td><td>912.0000000</td></tr><tr><td>10977</td><td>2233.0000000</td><td>558.2500000</td></tr><tr><td>10978</td><td>1303.1950000</td><td>325.7987500</td></tr><tr><td>10979</td><td>4813.5000000</td><td>802.2500000</td></tr><tr><td>10980</td><td>248.0000000</td><td>248.0000000</td></tr><tr><td>10981</td><td>15810.0000000</td><td>15810.0000000</td></tr><tr><td>10982</td><td>1014.0000000</td><td>507.0000000</td></tr><tr><td>10983</td><td>720.9000000</td><td>360.4500000</td></tr><tr><td>10984</td><td>1809.7500000</td><td>603.2500000</td></tr><tr><td>10985</td><td>2023.3800000</td><td>674.4600000</td></tr><tr><td>10986</td><td>2220.0000000</td><td>555.0000000</td></tr><tr><td>10987</td><td>2772.0000000</td><td>924.0000000</td></tr><tr><td>10988</td><td>3574.8000000</td><td>1787.4000000</td></tr><tr><td>10989</td><td>1353.6000000</td><td>451.2000000</td></tr><tr><td>10990</td><td>4288.8500000</td><td>1072.2125000</td></tr><tr><td>10991</td><td>2296.0000000</td><td>765.3333333</td></tr><tr><td>10992</td><td>69.6000000</td><td>69.6000000</td></tr><tr><td>10993</td><td>4895.4375000</td><td>2447.7187500</td></tr><tr><td>10994</td><td>940.5000000</td><td>940.5000000</td></tr><tr><td>10995</td><td>1196.0000000</td><td>598.0000000</td></tr><tr><td>10996</td><td>560.0000000</td><td>560.0000000</td></tr><tr><td>10997</td><td>1885.0000000</td><td>628.3333333</td></tr><tr><td>10998</td><td>686.0000000</td><td>171.5000000</td></tr><tr><td>10999</td><td>1197.9500000</td><td>399.3166666</td></tr><tr><td>11000</td><td>903.7500000</td><td>301.2500000</td></tr><tr><td>11001</td><td>2769.0000000</td><td>692.2500000</td></tr><tr><td>11002</td><td>1811.1000000</td><td>452.7750000</td></tr><tr><td>11003</td><td>326.0000000</td><td>108.6666666</td></tr><tr><td>11004</td><td>295.3800000</td><td>147.6900000</td></tr><tr><td>11005</td><td>586.0000000</td><td>293.0000000</td></tr><tr><td>11006</td><td>329.6850000</td><td>164.8425000</td></tr><tr><td>11007</td><td>2633.9000000</td><td>877.9666666</td></tr><tr><td>11008</td><td>4680.9000000</td><td>1560.3000000</td></tr><tr><td>11009</td><td>616.5000000</td><td>205.5000000</td></tr><tr><td>11010</td><td>645.0000000</td><td>322.5000000</td></tr><tr><td>11011</td><td>933.5000000</td><td>466.7500000</td></tr><tr><td>11012</td><td>2825.3000000</td><td>941.7666666</td></tr><tr><td>11013</td><td>361.0000000</td><td>90.2500000</td></tr><tr><td>11014</td><td>243.1800000</td><td>243.1800000</td></tr><tr><td>11015</td><td>622.3500000</td><td>311.1750000</td></tr><tr><td>11016</td><td>491.5000000</td><td>245.7500000</td></tr><tr><td>11017</td><td>6750.0000000</td><td>2250.0000000</td></tr><tr><td>11018</td><td>1575.0000000</td><td>525.0000000</td></tr><tr><td>11019</td><td>76.0000000</td><td>38.0000000</td></tr><tr><td>11020</td><td>632.4000000</td><td>632.4000000</td></tr><tr><td>11021</td><td>6306.2400000</td><td>1261.2480000</td></tr><tr><td>11022</td><td>1402.0000000</td><td>701.0000000</td></tr><tr><td>11023</td><td>1500.0000000</td><td>750.0000000</td></tr><tr><td>11024</td><td>1966.8100000</td><td>491.7025000</td></tr><tr><td>11025</td><td>270.0000000</td><td>135.0000000</td></tr><tr><td>11026</td><td>1030.0000000</td><td>515.0000000</td></tr><tr><td>11027</td><td>877.7250000</td><td>438.8625000</td></tr><tr><td>11028</td><td>2160.0000000</td><td>1080.0000000</td></tr><tr><td>11029</td><td>1286.8000000</td><td>643.4000000</td></tr><tr><td>11030</td><td>12615.0500000</td><td>3153.7625000</td></tr><tr><td>11031</td><td>2393.5000000</td><td>478.7000000</td></tr><tr><td>11032</td><td>8902.5000000</td><td>2967.5000000</td></tr><tr><td>11033</td><td>3232.8000000</td><td>1616.4000000</td></tr><tr><td>11034</td><td>539.4000000</td><td>179.8000000</td></tr><tr><td>11035</td><td>1754.5000000</td><td>438.6250000</td></tr><tr><td>11036</td><td>1692.0000000</td><td>846.0000000</td></tr><tr><td>11037</td><td>60.0000000</td><td>60.0000000</td></tr><tr><td>11038</td><td>732.6000000</td><td>244.2000000</td></tr><tr><td>11039</td><td>3090.0000000</td><td>772.5000000</td></tr><tr><td>11040</td><td>200.0000000</td><td>200.0000000</td></tr><tr><td>11041</td><td>1773.0000000</td><td>886.5000000</td></tr><tr><td>11042</td><td>405.7500000</td><td>202.8750000</td></tr><tr><td>11043</td><td>210.0000000</td><td>210.0000000</td></tr><tr><td>11044</td><td>591.6000000</td><td>591.6000000</td></tr><tr><td>11045</td><td>1309.5000000</td><td>654.7500000</td></tr><tr><td>11046</td><td>1485.8000000</td><td>495.2666666</td></tr><tr><td>11047</td><td>817.8750000</td><td>408.9375000</td></tr><tr><td>11048</td><td>525.0000000</td><td>525.0000000</td></tr><tr><td>11049</td><td>273.6000000</td><td>136.8000000</td></tr><tr><td>11050</td><td>810.0000000</td><td>810.0000000</td></tr><tr><td>11051</td><td>36.0000000</td><td>36.0000000</td></tr><tr><td>11052</td><td>1332.0000000</td><td>666.0000000</td></tr><tr><td>11053</td><td>3055.0000000</td><td>1018.3333333</td></tr><tr><td>11054</td><td>305.0000000</td><td>152.5000000</td></tr><tr><td>11055</td><td>1727.5000000</td><td>431.8750000</td></tr><tr><td>11056</td><td>3740.0000000</td><td>1246.6666666</td></tr><tr><td>11057</td><td>45.0000000</td><td>45.0000000</td></tr><tr><td>11058</td><td>858.0000000</td><td>286.0000000</td></tr><tr><td>11059</td><td>1838.0000000</td><td>612.6666666</td></tr><tr><td>11060</td><td>266.0000000</td><td>133.0000000</td></tr><tr><td>11061</td><td>510.0000000</td><td>510.0000000</td></tr><tr><td>11062</td><td>406.4000000</td><td>203.2000000</td></tr><tr><td>11063</td><td>1342.9500000</td><td>447.6500000</td></tr><tr><td>11064</td><td>4330.4000000</td><td>866.0800000</td></tr><tr><td>11065</td><td>189.4200000</td><td>94.7100000</td></tr><tr><td>11066</td><td>928.7500000</td><td>309.5833333</td></tr><tr><td>11067</td><td>86.8500000</td><td>86.8500000</td></tr><tr><td>11068</td><td>2027.0800000</td><td>675.6933333</td></tr><tr><td>11069</td><td>360.0000000</td><td>360.0000000</td></tr><tr><td>11070</td><td>1629.9750000</td><td>407.4937500</td></tr><tr><td>11071</td><td>484.5000000</td><td>242.2500000</td></tr><tr><td>11072</td><td>5218.0000000</td><td>1304.5000000</td></tr><tr><td>11073</td><td>300.0000000</td><td>150.0000000</td></tr><tr><td>11074</td><td>232.0850000</td><td>232.0850000</td></tr><tr><td>11075</td><td>498.1000000</td><td>166.0333333</td></tr><tr><td>11076</td><td>792.7500000</td><td>264.2500000</td></tr><tr><td>11077</td><td>1255.7205000</td><td>50.2288200</td></tr></table>"
                    }
                }
            ],
            "execution_count": 9
        },
        {
            "cell_type": "markdown",
            "source": "3. Utilizando Expresions Comunes de Tabla",
            "metadata": {}
        },
        {
            "cell_type": "markdown",
            "source": "3.1. Write a SELECT statement like the one in exercise 2.1, but use a CTE instead of a derived table.\r\nUse inline column aliasing in the CTE query and name the CTE ProductBeverages.",
            "metadata": {}
        },
        {
            "cell_type": "code",
            "source": "WITH ProductBeverages\r\nAS \r\n(  \r\n\tSELECT productid,productname,Cost_Estimation FROM Production.ProductsBeverages\r\n) \r\nSELECT productid,productname FROM ProductBeverages WHERE Cost_Estimation LIKE 'high'",
            "metadata": {},
            "outputs": [],
            "execution_count": 0
        },
        {
            "cell_type": "markdown",
            "source": "3.2. Write a SELECT statement against Sales.OrderValues to retrieve each customer’s ID and total sales\r\namount for the year 2008. Define a CTE named c2008 based on this query, using the external aliasing\r\nform to name the CTE columns custid and salesamt2008. Join the Sales.Customers table and the\r\nc2008 CTE, returning the custid and contactname columns from the Sales.Customers table and the\r\nsalesamt2008 column from the c2008 CTE.",
            "metadata": {}
        },
        {
            "cell_type": "code",
            "source": "",
            "metadata": {},
            "outputs": [],
            "execution_count": 0
        },
        {
            "cell_type": "markdown",
            "source": "4. Utilizando Funciones de Tabla en línea",
            "metadata": {}
        },
        {
            "cell_type": "markdown",
            "source": "4.1. Write a SELECT statement against the Sales.OrderValues view and retrieve the custid and\r\ntotalsalesamount columns as a total of the val column. Filter the results to include orders only for the\r\nyear 2007.",
            "metadata": {}
        },
        {
            "cell_type": "code",
            "source": "",
            "metadata": {},
            "outputs": [],
            "execution_count": 0
        },
        {
            "cell_type": "markdown",
            "source": "4.2. Define an inline TVF using the following function header and add your previous query after the\r\nRETURN clause:\r\nModify the query by replacing the constant year value 2007 in the WHERE clause with the parameter\r\n@orderyear",
            "metadata": {}
        },
        {
            "cell_type": "code",
            "source": "CREATE FUNCTION dbo.fnGetSalesByCustomer\r\n(@orderyear AS INT) RETURNS TABLE\r\nAS\r\nRETURN",
            "metadata": {},
            "outputs": [],
            "execution_count": 0
        },
        {
            "cell_type": "markdown",
            "source": "4.3. Write a SELECT statement that retrieves the top three sold products based on the total sales value for the customer\r\nwith ID 1. Return the productid and productname columns from the Production.Products table. Use\r\nthe qty and unitprice columns from the Sales.OrderDetails table to compute each order line’s value,\r\nand return the sum of all values per product, naming the resulting column totalsalesamount. Filter the\r\nresults to include only the rows where the custid value is equal to 1.",
            "metadata": {}
        },
        {
            "cell_type": "code",
            "source": "",
            "metadata": {},
            "outputs": [],
            "execution_count": 0
        },
        {
            "cell_type": "markdown",
            "source": "4.4. Create an inline TVF based on the following function header, using the previous SELECT statement.\r\nReplace the constant custid value 1 in the query with the function’s input parameter @custid:",
            "metadata": {}
        },
        {
            "cell_type": "code",
            "source": "CREATE FUNCTION dbo.fnGetTop3ProductsForCustomer\r\n(@custid AS INT) RETURNS TABLE\r\nAS\r\nRETURN",
            "metadata": {},
            "outputs": [],
            "execution_count": 0
        },
        {
            "cell_type": "markdown",
            "source": "4.5. Test the created inline TVF by writing a SELECT statement against it and use the value 1 for the\r\ncustomer ID parameter. Retrieve the productid, productname, and totalsalesamount columns, and use\r\nthe alias “p” for the inline TVF",
            "metadata": {}
        },
        {
            "cell_type": "code",
            "source": "",
            "metadata": {},
            "outputs": [],
            "execution_count": 0
        },
        {
            "cell_type": "markdown",
            "source": "4.6. Escribir el código necesario para limpiar todos los cambios realizados",
            "metadata": {}
        },
        {
            "cell_type": "code",
            "source": "",
            "metadata": {},
            "outputs": [],
            "execution_count": 0
        }
    ]
}